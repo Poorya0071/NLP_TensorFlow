{
  "nbformat": 4,
  "nbformat_minor": 0,
  "metadata": {
    "colab": {
      "provenance": [],
      "authorship_tag": "ABX9TyNLAl5pHLlgZvXSnaXqJtYu",
      "include_colab_link": true
    },
    "kernelspec": {
      "name": "python3",
      "display_name": "Python 3"
    },
    "language_info": {
      "name": "python"
    },
    "accelerator": "GPU",
    "gpuClass": "standard"
  },
  "cells": [
    {
      "cell_type": "markdown",
      "metadata": {
        "id": "view-in-github",
        "colab_type": "text"
      },
      "source": [
        "<a href=\"https://colab.research.google.com/github/Poorya0071/-Natural-Disasters-Tweets-with-NLP/blob/main/NLP_Multi.ipynb\" target=\"_parent\"><img src=\"https://colab.research.google.com/assets/colab-badge.svg\" alt=\"Open In Colab\"/></a>"
      ]
    },
    {
      "cell_type": "markdown",
      "source": [
        "This notebook aims to classify multiclass texts."
      ],
      "metadata": {
        "id": "fSB5mP7dKwGb"
      }
    },
    {
      "cell_type": "code",
      "source": [
        "import os\n",
        "import pandas as pd"
      ],
      "metadata": {
        "id": "k9oQtUH5C_gK"
      },
      "execution_count": 1,
      "outputs": []
    },
    {
      "cell_type": "markdown",
      "source": [
        "Upload the data."
      ],
      "metadata": {
        "id": "arZwpUmKK_dP"
      }
    },
    {
      "cell_type": "code",
      "execution_count": 2,
      "metadata": {
        "colab": {
          "base_uri": "https://localhost:8080/"
        },
        "id": "p11RULa2CIwW",
        "outputId": "dda04845-6d0a-464d-ff7a-85fac42d2e93"
      },
      "outputs": [
        {
          "output_type": "stream",
          "name": "stdout",
          "text": [
            "Cloning into 'pubmed-rct'...\n",
            "remote: Enumerating objects: 33, done.\u001b[K\n",
            "remote: Counting objects: 100% (8/8), done.\u001b[K\n",
            "remote: Compressing objects: 100% (3/3), done.\u001b[K\n",
            "remote: Total 33 (delta 5), reused 5 (delta 5), pack-reused 25\u001b[K\n",
            "Unpacking objects: 100% (33/33), done.\n",
            "PubMed_200k_RCT\n",
            "PubMed_200k_RCT_numbers_replaced_with_at_sign\n",
            "PubMed_20k_RCT\n",
            "PubMed_20k_RCT_numbers_replaced_with_at_sign\n",
            "README.md\n"
          ]
        }
      ],
      "source": [
        "\n",
        "!git clone https://github.com/Franck-Dernoncourt/pubmed-rct.git\n",
        "!ls pubmed-rct"
      ]
    },
    {
      "cell_type": "code",
      "source": [
        "!ls pubmed-rct/PubMed_20k_RCT_numbers_replaced_with_at_sign"
      ],
      "metadata": {
        "colab": {
          "base_uri": "https://localhost:8080/"
        },
        "id": "EfBVqXtLCMhg",
        "outputId": "b082a4d3-0d7d-4292-f243-a01206c6a26b"
      },
      "execution_count": 3,
      "outputs": [
        {
          "output_type": "stream",
          "name": "stdout",
          "text": [
            "dev.txt  test.txt  train.txt\n"
          ]
        }
      ]
    },
    {
      "cell_type": "code",
      "source": [
        "data_dir = \"pubmed-rct/PubMed_20k_RCT_numbers_replaced_with_at_sign/\""
      ],
      "metadata": {
        "id": "iEcVG-agCUe_"
      },
      "execution_count": 4,
      "outputs": []
    },
    {
      "cell_type": "code",
      "source": [
        "for file_name in os.listdir(data_dir):\n",
        "  print(data_dir + file_name)"
      ],
      "metadata": {
        "colab": {
          "base_uri": "https://localhost:8080/"
        },
        "id": "i6wG5I1lCmgg",
        "outputId": "45420677-0d55-4daa-e249-4f259f429540"
      },
      "execution_count": 5,
      "outputs": [
        {
          "output_type": "stream",
          "name": "stdout",
          "text": [
            "pubmed-rct/PubMed_20k_RCT_numbers_replaced_with_at_sign/train.txt\n",
            "pubmed-rct/PubMed_20k_RCT_numbers_replaced_with_at_sign/test.txt\n",
            "pubmed-rct/PubMed_20k_RCT_numbers_replaced_with_at_sign/dev.txt\n"
          ]
        }
      ]
    },
    {
      "cell_type": "markdown",
      "source": [
        "read lines of the train, valid, and test datasets"
      ],
      "metadata": {
        "id": "Bt5zqhoCLDbP"
      }
    },
    {
      "cell_type": "code",
      "source": [
        "with open('pubmed-rct/PubMed_20k_RCT_numbers_replaced_with_at_sign/train.txt', 'r') as f:\n",
        "  train_lines = f.readlines()"
      ],
      "metadata": {
        "id": "t5bWtYaYDfPM"
      },
      "execution_count": 6,
      "outputs": []
    },
    {
      "cell_type": "code",
      "source": [
        "with open('pubmed-rct/PubMed_20k_RCT_numbers_replaced_with_at_sign/test.txt', 'r') as f:\n",
        "  test_lines = f.readlines()"
      ],
      "metadata": {
        "id": "21Lsgg8nEYzo"
      },
      "execution_count": 7,
      "outputs": []
    },
    {
      "cell_type": "code",
      "source": [
        "with open('pubmed-rct/PubMed_20k_RCT_numbers_replaced_with_at_sign/dev.txt', 'r') as f:\n",
        "  valid_lines = f.readlines()"
      ],
      "metadata": {
        "id": "ZXhIfWMHE3UK"
      },
      "execution_count": 8,
      "outputs": []
    },
    {
      "cell_type": "code",
      "source": [
        "len(train_lines), len(test_lines), len(valid_lines)"
      ],
      "metadata": {
        "colab": {
          "base_uri": "https://localhost:8080/"
        },
        "id": "vYvXnhkeEoh_",
        "outputId": "b4a1746a-8ab1-4eb3-ed69-91935ba3fc63"
      },
      "execution_count": 9,
      "outputs": [
        {
          "output_type": "execute_result",
          "data": {
            "text/plain": [
              "(210040, 35135, 35212)"
            ]
          },
          "metadata": {},
          "execution_count": 9
        }
      ]
    },
    {
      "cell_type": "code",
      "source": [
        "train_lines[1]"
      ],
      "metadata": {
        "colab": {
          "base_uri": "https://localhost:8080/",
          "height": 53
        },
        "id": "AlJWZm4vGj-U",
        "outputId": "e9d871e0-b79b-472c-a627-c67ae0d29f70"
      },
      "execution_count": 10,
      "outputs": [
        {
          "output_type": "execute_result",
          "data": {
            "text/plain": [
              "'OBJECTIVE\\tTo investigate the efficacy of @ weeks of daily low-dose oral prednisolone in improving pain , mobility , and systemic low-grade inflammation in the short term and whether the effect would be sustained at @ weeks in older adults with moderate to severe knee osteoarthritis ( OA ) .\\n'"
            ],
            "application/vnd.google.colaboratory.intrinsic+json": {
              "type": "string"
            }
          },
          "metadata": {},
          "execution_count": 10
        }
      ]
    },
    {
      "cell_type": "markdown",
      "source": [
        "splits datasets to text and lables."
      ],
      "metadata": {
        "id": "jLAhmyftLKyo"
      }
    },
    {
      "cell_type": "code",
      "source": [
        "train_split_ls_text = []\n",
        "train_label_ls = []\n",
        "for i in range(len(train_lines)):\n",
        "  if '\\t' in train_lines[i]:\n",
        "    train_label, train_split_text = train_lines[i].split('\\t')\n",
        "    train_split_ls_text.append(train_split_text)\n",
        "    train_label_ls.append(train_label)\n",
        "\n",
        "print(train_label_ls[:5])\n",
        "print(train_split_ls_text[:5])"
      ],
      "metadata": {
        "colab": {
          "base_uri": "https://localhost:8080/"
        },
        "id": "jXnAHR-JGMlh",
        "outputId": "0fb99b0d-e623-4986-acd3-42a7afb26be7"
      },
      "execution_count": 89,
      "outputs": [
        {
          "output_type": "stream",
          "name": "stdout",
          "text": [
            "['OBJECTIVE', 'METHODS', 'METHODS', 'METHODS', 'METHODS']\n",
            "['To investigate the efficacy of @ weeks of daily low-dose oral prednisolone in improving pain , mobility , and systemic low-grade inflammation in the short term and whether the effect would be sustained at @ weeks in older adults with moderate to severe knee osteoarthritis ( OA ) .\\n', 'A total of @ patients with primary knee OA were randomized @:@ ; @ received @ mg/day of prednisolone and @ received placebo for @ weeks .\\n', 'Outcome measures included pain reduction and improvement in function scores and systemic inflammation markers .\\n', 'Pain was assessed using the visual analog pain scale ( @-@ mm ) .\\n', 'Secondary outcome measures included the Western Ontario and McMaster Universities Osteoarthritis Index scores , patient global assessment ( PGA ) of the severity of knee OA , and @-min walk distance ( @MWD ) .\\n']\n"
          ]
        }
      ]
    },
    {
      "cell_type": "code",
      "source": [
        "len(train_split_ls_text), len(train_label_ls)"
      ],
      "metadata": {
        "colab": {
          "base_uri": "https://localhost:8080/"
        },
        "id": "iHbEwop2MUXB",
        "outputId": "35faf254-c449-48ed-f3dc-5faf8bd83be6"
      },
      "execution_count": 90,
      "outputs": [
        {
          "output_type": "execute_result",
          "data": {
            "text/plain": [
              "(180040, 180040)"
            ]
          },
          "metadata": {},
          "execution_count": 90
        }
      ]
    },
    {
      "cell_type": "code",
      "source": [
        "train_dataframe = pd.DataFrame()\n",
        "train_dataframe['train_text']= train_split_ls_text\n",
        "train_dataframe['train_label']= train_label_ls\n",
        "train_dataframe.head()"
      ],
      "metadata": {
        "colab": {
          "base_uri": "https://localhost:8080/",
          "height": 206
        },
        "id": "msliXyGqi748",
        "outputId": "21a345c8-b2e9-47dd-dfc9-e4ce44ff330f"
      },
      "execution_count": 91,
      "outputs": [
        {
          "output_type": "execute_result",
          "data": {
            "text/plain": [
              "                                          train_text train_label\n",
              "0  To investigate the efficacy of @ weeks of dail...   OBJECTIVE\n",
              "1  A total of @ patients with primary knee OA wer...     METHODS\n",
              "2  Outcome measures included pain reduction and i...     METHODS\n",
              "3  Pain was assessed using the visual analog pain...     METHODS\n",
              "4  Secondary outcome measures included the Wester...     METHODS"
            ],
            "text/html": [
              "\n",
              "  <div id=\"df-5e7a8640-0fe7-467e-9435-4fd83259f87b\">\n",
              "    <div class=\"colab-df-container\">\n",
              "      <div>\n",
              "<style scoped>\n",
              "    .dataframe tbody tr th:only-of-type {\n",
              "        vertical-align: middle;\n",
              "    }\n",
              "\n",
              "    .dataframe tbody tr th {\n",
              "        vertical-align: top;\n",
              "    }\n",
              "\n",
              "    .dataframe thead th {\n",
              "        text-align: right;\n",
              "    }\n",
              "</style>\n",
              "<table border=\"1\" class=\"dataframe\">\n",
              "  <thead>\n",
              "    <tr style=\"text-align: right;\">\n",
              "      <th></th>\n",
              "      <th>train_text</th>\n",
              "      <th>train_label</th>\n",
              "    </tr>\n",
              "  </thead>\n",
              "  <tbody>\n",
              "    <tr>\n",
              "      <th>0</th>\n",
              "      <td>To investigate the efficacy of @ weeks of dail...</td>\n",
              "      <td>OBJECTIVE</td>\n",
              "    </tr>\n",
              "    <tr>\n",
              "      <th>1</th>\n",
              "      <td>A total of @ patients with primary knee OA wer...</td>\n",
              "      <td>METHODS</td>\n",
              "    </tr>\n",
              "    <tr>\n",
              "      <th>2</th>\n",
              "      <td>Outcome measures included pain reduction and i...</td>\n",
              "      <td>METHODS</td>\n",
              "    </tr>\n",
              "    <tr>\n",
              "      <th>3</th>\n",
              "      <td>Pain was assessed using the visual analog pain...</td>\n",
              "      <td>METHODS</td>\n",
              "    </tr>\n",
              "    <tr>\n",
              "      <th>4</th>\n",
              "      <td>Secondary outcome measures included the Wester...</td>\n",
              "      <td>METHODS</td>\n",
              "    </tr>\n",
              "  </tbody>\n",
              "</table>\n",
              "</div>\n",
              "      <button class=\"colab-df-convert\" onclick=\"convertToInteractive('df-5e7a8640-0fe7-467e-9435-4fd83259f87b')\"\n",
              "              title=\"Convert this dataframe to an interactive table.\"\n",
              "              style=\"display:none;\">\n",
              "        \n",
              "  <svg xmlns=\"http://www.w3.org/2000/svg\" height=\"24px\"viewBox=\"0 0 24 24\"\n",
              "       width=\"24px\">\n",
              "    <path d=\"M0 0h24v24H0V0z\" fill=\"none\"/>\n",
              "    <path d=\"M18.56 5.44l.94 2.06.94-2.06 2.06-.94-2.06-.94-.94-2.06-.94 2.06-2.06.94zm-11 1L8.5 8.5l.94-2.06 2.06-.94-2.06-.94L8.5 2.5l-.94 2.06-2.06.94zm10 10l.94 2.06.94-2.06 2.06-.94-2.06-.94-.94-2.06-.94 2.06-2.06.94z\"/><path d=\"M17.41 7.96l-1.37-1.37c-.4-.4-.92-.59-1.43-.59-.52 0-1.04.2-1.43.59L10.3 9.45l-7.72 7.72c-.78.78-.78 2.05 0 2.83L4 21.41c.39.39.9.59 1.41.59.51 0 1.02-.2 1.41-.59l7.78-7.78 2.81-2.81c.8-.78.8-2.07 0-2.86zM5.41 20L4 18.59l7.72-7.72 1.47 1.35L5.41 20z\"/>\n",
              "  </svg>\n",
              "      </button>\n",
              "      \n",
              "  <style>\n",
              "    .colab-df-container {\n",
              "      display:flex;\n",
              "      flex-wrap:wrap;\n",
              "      gap: 12px;\n",
              "    }\n",
              "\n",
              "    .colab-df-convert {\n",
              "      background-color: #E8F0FE;\n",
              "      border: none;\n",
              "      border-radius: 50%;\n",
              "      cursor: pointer;\n",
              "      display: none;\n",
              "      fill: #1967D2;\n",
              "      height: 32px;\n",
              "      padding: 0 0 0 0;\n",
              "      width: 32px;\n",
              "    }\n",
              "\n",
              "    .colab-df-convert:hover {\n",
              "      background-color: #E2EBFA;\n",
              "      box-shadow: 0px 1px 2px rgba(60, 64, 67, 0.3), 0px 1px 3px 1px rgba(60, 64, 67, 0.15);\n",
              "      fill: #174EA6;\n",
              "    }\n",
              "\n",
              "    [theme=dark] .colab-df-convert {\n",
              "      background-color: #3B4455;\n",
              "      fill: #D2E3FC;\n",
              "    }\n",
              "\n",
              "    [theme=dark] .colab-df-convert:hover {\n",
              "      background-color: #434B5C;\n",
              "      box-shadow: 0px 1px 3px 1px rgba(0, 0, 0, 0.15);\n",
              "      filter: drop-shadow(0px 1px 2px rgba(0, 0, 0, 0.3));\n",
              "      fill: #FFFFFF;\n",
              "    }\n",
              "  </style>\n",
              "\n",
              "      <script>\n",
              "        const buttonEl =\n",
              "          document.querySelector('#df-5e7a8640-0fe7-467e-9435-4fd83259f87b button.colab-df-convert');\n",
              "        buttonEl.style.display =\n",
              "          google.colab.kernel.accessAllowed ? 'block' : 'none';\n",
              "\n",
              "        async function convertToInteractive(key) {\n",
              "          const element = document.querySelector('#df-5e7a8640-0fe7-467e-9435-4fd83259f87b');\n",
              "          const dataTable =\n",
              "            await google.colab.kernel.invokeFunction('convertToInteractive',\n",
              "                                                     [key], {});\n",
              "          if (!dataTable) return;\n",
              "\n",
              "          const docLinkHtml = 'Like what you see? Visit the ' +\n",
              "            '<a target=\"_blank\" href=https://colab.research.google.com/notebooks/data_table.ipynb>data table notebook</a>'\n",
              "            + ' to learn more about interactive tables.';\n",
              "          element.innerHTML = '';\n",
              "          dataTable['output_type'] = 'display_data';\n",
              "          await google.colab.output.renderOutput(dataTable, element);\n",
              "          const docLink = document.createElement('div');\n",
              "          docLink.innerHTML = docLinkHtml;\n",
              "          element.appendChild(docLink);\n",
              "        }\n",
              "      </script>\n",
              "    </div>\n",
              "  </div>\n",
              "  "
            ]
          },
          "metadata": {},
          "execution_count": 91
        }
      ]
    },
    {
      "cell_type": "code",
      "source": [
        "test_split_ls_text = []\n",
        "test_label_ls = []\n",
        "for i in range(len(test_lines)):\n",
        "  if '\\t' in test_lines[i]:\n",
        "    test_label, test_split_text = test_lines[i].split('\\t')\n",
        "    test_split_ls_text.append(test_split_text)\n",
        "    test_label_ls.append(test_label)\n",
        "\n",
        "print(test_label_ls[:5])\n",
        "print(test_split_ls_text[:5])"
      ],
      "metadata": {
        "colab": {
          "base_uri": "https://localhost:8080/"
        },
        "id": "zXx2KrSFjVLd",
        "outputId": "7380fefc-11bd-4b83-b791-e2711b80b679"
      },
      "execution_count": 92,
      "outputs": [
        {
          "output_type": "stream",
          "name": "stdout",
          "text": [
            "['BACKGROUND', 'RESULTS', 'RESULTS', 'RESULTS', 'RESULTS']\n",
            "['This study analyzed liver function abnormalities in heart failure patients admitted with severe acute decompensated heart failure ( ADHF ) .\\n', 'A post hoc analysis was conducted with the use of data from the Evaluation Study of Congestive Heart Failure and Pulmonary Artery Catheterization Effectiveness ( ESCAPE ) .\\n', 'Liver function tests ( LFTs ) were measured at @ time points from baseline , at discharge , and up to @ months follow-up .\\n', 'Survival analyses were used to assess the association between admission Model of End-Stage Liver Disease Excluding International Normalized Ratio ( MELD-XI ) scores and patient outcome.There was a high prevalence of abnormal baseline ( admission ) LFTs ( albumin @ % , aspartate transaminase @ % , alanine transaminase @ % , and total bilirubin @ % ) .\\n', \"The percentage of patients with abnormal LFTs decreased significantly from baseline to @-months ' follow-up .\\n\"]\n"
          ]
        }
      ]
    },
    {
      "cell_type": "code",
      "source": [
        "len(test_split_ls_text), len(test_label_ls)"
      ],
      "metadata": {
        "colab": {
          "base_uri": "https://localhost:8080/"
        },
        "id": "gey1tCcJlFWE",
        "outputId": "e8b45339-8492-4764-9262-1ca10d6cba0a"
      },
      "execution_count": 93,
      "outputs": [
        {
          "output_type": "execute_result",
          "data": {
            "text/plain": [
              "(30135, 30135)"
            ]
          },
          "metadata": {},
          "execution_count": 93
        }
      ]
    },
    {
      "cell_type": "code",
      "source": [
        "test_dataframe = pd.DataFrame()\n",
        "test_dataframe['test_text']= test_split_ls_text\n",
        "test_dataframe['test_label']= test_label_ls\n",
        "test_dataframe.head()"
      ],
      "metadata": {
        "colab": {
          "base_uri": "https://localhost:8080/",
          "height": 206
        },
        "id": "X8yTEXH-l9T5",
        "outputId": "7e4f4c4f-4017-4551-adfa-52394c68fd08"
      },
      "execution_count": 94,
      "outputs": [
        {
          "output_type": "execute_result",
          "data": {
            "text/plain": [
              "                                           test_text  test_label\n",
              "0  This study analyzed liver function abnormaliti...  BACKGROUND\n",
              "1  A post hoc analysis was conducted with the use...     RESULTS\n",
              "2  Liver function tests ( LFTs ) were measured at...     RESULTS\n",
              "3  Survival analyses were used to assess the asso...     RESULTS\n",
              "4  The percentage of patients with abnormal LFTs ...     RESULTS"
            ],
            "text/html": [
              "\n",
              "  <div id=\"df-1fb07bb3-7cd4-49b8-b897-84a0ba97c36a\">\n",
              "    <div class=\"colab-df-container\">\n",
              "      <div>\n",
              "<style scoped>\n",
              "    .dataframe tbody tr th:only-of-type {\n",
              "        vertical-align: middle;\n",
              "    }\n",
              "\n",
              "    .dataframe tbody tr th {\n",
              "        vertical-align: top;\n",
              "    }\n",
              "\n",
              "    .dataframe thead th {\n",
              "        text-align: right;\n",
              "    }\n",
              "</style>\n",
              "<table border=\"1\" class=\"dataframe\">\n",
              "  <thead>\n",
              "    <tr style=\"text-align: right;\">\n",
              "      <th></th>\n",
              "      <th>test_text</th>\n",
              "      <th>test_label</th>\n",
              "    </tr>\n",
              "  </thead>\n",
              "  <tbody>\n",
              "    <tr>\n",
              "      <th>0</th>\n",
              "      <td>This study analyzed liver function abnormaliti...</td>\n",
              "      <td>BACKGROUND</td>\n",
              "    </tr>\n",
              "    <tr>\n",
              "      <th>1</th>\n",
              "      <td>A post hoc analysis was conducted with the use...</td>\n",
              "      <td>RESULTS</td>\n",
              "    </tr>\n",
              "    <tr>\n",
              "      <th>2</th>\n",
              "      <td>Liver function tests ( LFTs ) were measured at...</td>\n",
              "      <td>RESULTS</td>\n",
              "    </tr>\n",
              "    <tr>\n",
              "      <th>3</th>\n",
              "      <td>Survival analyses were used to assess the asso...</td>\n",
              "      <td>RESULTS</td>\n",
              "    </tr>\n",
              "    <tr>\n",
              "      <th>4</th>\n",
              "      <td>The percentage of patients with abnormal LFTs ...</td>\n",
              "      <td>RESULTS</td>\n",
              "    </tr>\n",
              "  </tbody>\n",
              "</table>\n",
              "</div>\n",
              "      <button class=\"colab-df-convert\" onclick=\"convertToInteractive('df-1fb07bb3-7cd4-49b8-b897-84a0ba97c36a')\"\n",
              "              title=\"Convert this dataframe to an interactive table.\"\n",
              "              style=\"display:none;\">\n",
              "        \n",
              "  <svg xmlns=\"http://www.w3.org/2000/svg\" height=\"24px\"viewBox=\"0 0 24 24\"\n",
              "       width=\"24px\">\n",
              "    <path d=\"M0 0h24v24H0V0z\" fill=\"none\"/>\n",
              "    <path d=\"M18.56 5.44l.94 2.06.94-2.06 2.06-.94-2.06-.94-.94-2.06-.94 2.06-2.06.94zm-11 1L8.5 8.5l.94-2.06 2.06-.94-2.06-.94L8.5 2.5l-.94 2.06-2.06.94zm10 10l.94 2.06.94-2.06 2.06-.94-2.06-.94-.94-2.06-.94 2.06-2.06.94z\"/><path d=\"M17.41 7.96l-1.37-1.37c-.4-.4-.92-.59-1.43-.59-.52 0-1.04.2-1.43.59L10.3 9.45l-7.72 7.72c-.78.78-.78 2.05 0 2.83L4 21.41c.39.39.9.59 1.41.59.51 0 1.02-.2 1.41-.59l7.78-7.78 2.81-2.81c.8-.78.8-2.07 0-2.86zM5.41 20L4 18.59l7.72-7.72 1.47 1.35L5.41 20z\"/>\n",
              "  </svg>\n",
              "      </button>\n",
              "      \n",
              "  <style>\n",
              "    .colab-df-container {\n",
              "      display:flex;\n",
              "      flex-wrap:wrap;\n",
              "      gap: 12px;\n",
              "    }\n",
              "\n",
              "    .colab-df-convert {\n",
              "      background-color: #E8F0FE;\n",
              "      border: none;\n",
              "      border-radius: 50%;\n",
              "      cursor: pointer;\n",
              "      display: none;\n",
              "      fill: #1967D2;\n",
              "      height: 32px;\n",
              "      padding: 0 0 0 0;\n",
              "      width: 32px;\n",
              "    }\n",
              "\n",
              "    .colab-df-convert:hover {\n",
              "      background-color: #E2EBFA;\n",
              "      box-shadow: 0px 1px 2px rgba(60, 64, 67, 0.3), 0px 1px 3px 1px rgba(60, 64, 67, 0.15);\n",
              "      fill: #174EA6;\n",
              "    }\n",
              "\n",
              "    [theme=dark] .colab-df-convert {\n",
              "      background-color: #3B4455;\n",
              "      fill: #D2E3FC;\n",
              "    }\n",
              "\n",
              "    [theme=dark] .colab-df-convert:hover {\n",
              "      background-color: #434B5C;\n",
              "      box-shadow: 0px 1px 3px 1px rgba(0, 0, 0, 0.15);\n",
              "      filter: drop-shadow(0px 1px 2px rgba(0, 0, 0, 0.3));\n",
              "      fill: #FFFFFF;\n",
              "    }\n",
              "  </style>\n",
              "\n",
              "      <script>\n",
              "        const buttonEl =\n",
              "          document.querySelector('#df-1fb07bb3-7cd4-49b8-b897-84a0ba97c36a button.colab-df-convert');\n",
              "        buttonEl.style.display =\n",
              "          google.colab.kernel.accessAllowed ? 'block' : 'none';\n",
              "\n",
              "        async function convertToInteractive(key) {\n",
              "          const element = document.querySelector('#df-1fb07bb3-7cd4-49b8-b897-84a0ba97c36a');\n",
              "          const dataTable =\n",
              "            await google.colab.kernel.invokeFunction('convertToInteractive',\n",
              "                                                     [key], {});\n",
              "          if (!dataTable) return;\n",
              "\n",
              "          const docLinkHtml = 'Like what you see? Visit the ' +\n",
              "            '<a target=\"_blank\" href=https://colab.research.google.com/notebooks/data_table.ipynb>data table notebook</a>'\n",
              "            + ' to learn more about interactive tables.';\n",
              "          element.innerHTML = '';\n",
              "          dataTable['output_type'] = 'display_data';\n",
              "          await google.colab.output.renderOutput(dataTable, element);\n",
              "          const docLink = document.createElement('div');\n",
              "          docLink.innerHTML = docLinkHtml;\n",
              "          element.appendChild(docLink);\n",
              "        }\n",
              "      </script>\n",
              "    </div>\n",
              "  </div>\n",
              "  "
            ]
          },
          "metadata": {},
          "execution_count": 94
        }
      ]
    },
    {
      "cell_type": "code",
      "source": [
        "valid_split_ls_text = []\n",
        "valid_label_ls = []\n",
        "for i in range(len(valid_lines)):\n",
        "  if '\\t' in valid_lines[i]:\n",
        "    valid_label, valid_split_text = valid_lines[i].split('\\t')\n",
        "    valid_split_ls_text.append(valid_split_text)\n",
        "    valid_label_ls.append(valid_label)\n",
        "\n",
        "print(valid_label_ls[:5])\n",
        "print(valid_split_ls_text[:5])"
      ],
      "metadata": {
        "colab": {
          "base_uri": "https://localhost:8080/"
        },
        "id": "FgN6sv50lMFv",
        "outputId": "c98f9878-29d5-4656-c2d1-64fecaaf8007"
      },
      "execution_count": 95,
      "outputs": [
        {
          "output_type": "stream",
          "name": "stdout",
          "text": [
            "['BACKGROUND', 'BACKGROUND', 'OBJECTIVE', 'METHODS', 'METHODS']\n",
            "['IgE sensitization to Aspergillus fumigatus and a positive sputum fungal culture result are common in patients with refractory asthma .\\n', 'It is not clear whether these patients would benefit from antifungal treatment .\\n', 'We sought to determine whether a @-month course of voriconazole improved asthma-related outcomes in patients with asthma who are IgE sensitized to A fumigatus .\\n', 'Asthmatic patients who were IgE sensitized to A fumigatus with a history of at least @ severe exacerbations in the previous @ months were treated for @ months with @ mg of voriconazole twice daily , followed by observation for @ months , in a double-blind , placebo-controlled , randomized design .\\n', 'Primary outcomes were improvement in quality of life at the end of the treatment period and a reduction in the number of severe exacerbations over the @ months of the study .\\n']\n"
          ]
        }
      ]
    },
    {
      "cell_type": "code",
      "source": [
        "valid_dataframe = pd.DataFrame()\n",
        "valid_dataframe['valid_text']= valid_split_ls_text\n",
        "valid_dataframe['valid_label']= valid_label_ls\n",
        "valid_dataframe.head()"
      ],
      "metadata": {
        "colab": {
          "base_uri": "https://localhost:8080/",
          "height": 206
        },
        "id": "uOTy9168lpjz",
        "outputId": "288a3e0c-9f2e-4156-f6da-835292a97396"
      },
      "execution_count": 96,
      "outputs": [
        {
          "output_type": "execute_result",
          "data": {
            "text/plain": [
              "                                          valid_text valid_label\n",
              "0  IgE sensitization to Aspergillus fumigatus and...  BACKGROUND\n",
              "1  It is not clear whether these patients would b...  BACKGROUND\n",
              "2  We sought to determine whether a @-month cours...   OBJECTIVE\n",
              "3  Asthmatic patients who were IgE sensitized to ...     METHODS\n",
              "4  Primary outcomes were improvement in quality o...     METHODS"
            ],
            "text/html": [
              "\n",
              "  <div id=\"df-de11b8ec-f00b-4c85-9cd0-11e63111190e\">\n",
              "    <div class=\"colab-df-container\">\n",
              "      <div>\n",
              "<style scoped>\n",
              "    .dataframe tbody tr th:only-of-type {\n",
              "        vertical-align: middle;\n",
              "    }\n",
              "\n",
              "    .dataframe tbody tr th {\n",
              "        vertical-align: top;\n",
              "    }\n",
              "\n",
              "    .dataframe thead th {\n",
              "        text-align: right;\n",
              "    }\n",
              "</style>\n",
              "<table border=\"1\" class=\"dataframe\">\n",
              "  <thead>\n",
              "    <tr style=\"text-align: right;\">\n",
              "      <th></th>\n",
              "      <th>valid_text</th>\n",
              "      <th>valid_label</th>\n",
              "    </tr>\n",
              "  </thead>\n",
              "  <tbody>\n",
              "    <tr>\n",
              "      <th>0</th>\n",
              "      <td>IgE sensitization to Aspergillus fumigatus and...</td>\n",
              "      <td>BACKGROUND</td>\n",
              "    </tr>\n",
              "    <tr>\n",
              "      <th>1</th>\n",
              "      <td>It is not clear whether these patients would b...</td>\n",
              "      <td>BACKGROUND</td>\n",
              "    </tr>\n",
              "    <tr>\n",
              "      <th>2</th>\n",
              "      <td>We sought to determine whether a @-month cours...</td>\n",
              "      <td>OBJECTIVE</td>\n",
              "    </tr>\n",
              "    <tr>\n",
              "      <th>3</th>\n",
              "      <td>Asthmatic patients who were IgE sensitized to ...</td>\n",
              "      <td>METHODS</td>\n",
              "    </tr>\n",
              "    <tr>\n",
              "      <th>4</th>\n",
              "      <td>Primary outcomes were improvement in quality o...</td>\n",
              "      <td>METHODS</td>\n",
              "    </tr>\n",
              "  </tbody>\n",
              "</table>\n",
              "</div>\n",
              "      <button class=\"colab-df-convert\" onclick=\"convertToInteractive('df-de11b8ec-f00b-4c85-9cd0-11e63111190e')\"\n",
              "              title=\"Convert this dataframe to an interactive table.\"\n",
              "              style=\"display:none;\">\n",
              "        \n",
              "  <svg xmlns=\"http://www.w3.org/2000/svg\" height=\"24px\"viewBox=\"0 0 24 24\"\n",
              "       width=\"24px\">\n",
              "    <path d=\"M0 0h24v24H0V0z\" fill=\"none\"/>\n",
              "    <path d=\"M18.56 5.44l.94 2.06.94-2.06 2.06-.94-2.06-.94-.94-2.06-.94 2.06-2.06.94zm-11 1L8.5 8.5l.94-2.06 2.06-.94-2.06-.94L8.5 2.5l-.94 2.06-2.06.94zm10 10l.94 2.06.94-2.06 2.06-.94-2.06-.94-.94-2.06-.94 2.06-2.06.94z\"/><path d=\"M17.41 7.96l-1.37-1.37c-.4-.4-.92-.59-1.43-.59-.52 0-1.04.2-1.43.59L10.3 9.45l-7.72 7.72c-.78.78-.78 2.05 0 2.83L4 21.41c.39.39.9.59 1.41.59.51 0 1.02-.2 1.41-.59l7.78-7.78 2.81-2.81c.8-.78.8-2.07 0-2.86zM5.41 20L4 18.59l7.72-7.72 1.47 1.35L5.41 20z\"/>\n",
              "  </svg>\n",
              "      </button>\n",
              "      \n",
              "  <style>\n",
              "    .colab-df-container {\n",
              "      display:flex;\n",
              "      flex-wrap:wrap;\n",
              "      gap: 12px;\n",
              "    }\n",
              "\n",
              "    .colab-df-convert {\n",
              "      background-color: #E8F0FE;\n",
              "      border: none;\n",
              "      border-radius: 50%;\n",
              "      cursor: pointer;\n",
              "      display: none;\n",
              "      fill: #1967D2;\n",
              "      height: 32px;\n",
              "      padding: 0 0 0 0;\n",
              "      width: 32px;\n",
              "    }\n",
              "\n",
              "    .colab-df-convert:hover {\n",
              "      background-color: #E2EBFA;\n",
              "      box-shadow: 0px 1px 2px rgba(60, 64, 67, 0.3), 0px 1px 3px 1px rgba(60, 64, 67, 0.15);\n",
              "      fill: #174EA6;\n",
              "    }\n",
              "\n",
              "    [theme=dark] .colab-df-convert {\n",
              "      background-color: #3B4455;\n",
              "      fill: #D2E3FC;\n",
              "    }\n",
              "\n",
              "    [theme=dark] .colab-df-convert:hover {\n",
              "      background-color: #434B5C;\n",
              "      box-shadow: 0px 1px 3px 1px rgba(0, 0, 0, 0.15);\n",
              "      filter: drop-shadow(0px 1px 2px rgba(0, 0, 0, 0.3));\n",
              "      fill: #FFFFFF;\n",
              "    }\n",
              "  </style>\n",
              "\n",
              "      <script>\n",
              "        const buttonEl =\n",
              "          document.querySelector('#df-de11b8ec-f00b-4c85-9cd0-11e63111190e button.colab-df-convert');\n",
              "        buttonEl.style.display =\n",
              "          google.colab.kernel.accessAllowed ? 'block' : 'none';\n",
              "\n",
              "        async function convertToInteractive(key) {\n",
              "          const element = document.querySelector('#df-de11b8ec-f00b-4c85-9cd0-11e63111190e');\n",
              "          const dataTable =\n",
              "            await google.colab.kernel.invokeFunction('convertToInteractive',\n",
              "                                                     [key], {});\n",
              "          if (!dataTable) return;\n",
              "\n",
              "          const docLinkHtml = 'Like what you see? Visit the ' +\n",
              "            '<a target=\"_blank\" href=https://colab.research.google.com/notebooks/data_table.ipynb>data table notebook</a>'\n",
              "            + ' to learn more about interactive tables.';\n",
              "          element.innerHTML = '';\n",
              "          dataTable['output_type'] = 'display_data';\n",
              "          await google.colab.output.renderOutput(dataTable, element);\n",
              "          const docLink = document.createElement('div');\n",
              "          docLink.innerHTML = docLinkHtml;\n",
              "          element.appendChild(docLink);\n",
              "        }\n",
              "      </script>\n",
              "    </div>\n",
              "  </div>\n",
              "  "
            ]
          },
          "metadata": {},
          "execution_count": 96
        }
      ]
    },
    {
      "cell_type": "markdown",
      "source": [
        "shuffle all datasets."
      ],
      "metadata": {
        "id": "wQK8e0uNLRWx"
      }
    },
    {
      "cell_type": "code",
      "source": [
        "train_df_shuffeled = train_dataframe.sample(frac=1, random_state=42).reset_index()\n",
        "valid_df_shuffeled = valid_dataframe.sample(frac=1, random_state=42).reset_index()\n",
        "test_df_shuffeled = test_dataframe.sample(frac=1, random_state=42).reset_index()\n",
        "train_df_shuffeled.head(10)"
      ],
      "metadata": {
        "colab": {
          "base_uri": "https://localhost:8080/",
          "height": 363
        },
        "id": "gO0TCzhNmSdl",
        "outputId": "edc1efdb-eaa6-40b3-e3db-8063442a663d"
      },
      "execution_count": 97,
      "outputs": [
        {
          "output_type": "execute_result",
          "data": {
            "text/plain": [
              "    index                                         train_text  train_label\n",
              "0  103855  A multivariate model containing CADEES items a...      RESULTS\n",
              "1  161039  The effect evaluation will focus on performanc...      METHODS\n",
              "2      35                       Hands-on practice is key .\\n  CONCLUSIONS\n",
              "3   55599  The present study examines the linkages across...   BACKGROUND\n",
              "4   83622  Douching with lactated Ringer 's solution afte...  CONCLUSIONS\n",
              "5  106146                                   @ ; @:@ -@ ) .\\n   BACKGROUND\n",
              "6   44061  Telemedicine increased the percentage of diabe...  CONCLUSIONS\n",
              "7  140040  Application of GCI in the pelvic cavity after ...  CONCLUSIONS\n",
              "8   43462  Twenty-two subjects with type @ diabetes were ...      METHODS\n",
              "9   52694  The percentage of time in the therapeutic INR ...      RESULTS"
            ],
            "text/html": [
              "\n",
              "  <div id=\"df-f381c30d-0d25-4305-9fe7-39dcc452abf6\">\n",
              "    <div class=\"colab-df-container\">\n",
              "      <div>\n",
              "<style scoped>\n",
              "    .dataframe tbody tr th:only-of-type {\n",
              "        vertical-align: middle;\n",
              "    }\n",
              "\n",
              "    .dataframe tbody tr th {\n",
              "        vertical-align: top;\n",
              "    }\n",
              "\n",
              "    .dataframe thead th {\n",
              "        text-align: right;\n",
              "    }\n",
              "</style>\n",
              "<table border=\"1\" class=\"dataframe\">\n",
              "  <thead>\n",
              "    <tr style=\"text-align: right;\">\n",
              "      <th></th>\n",
              "      <th>index</th>\n",
              "      <th>train_text</th>\n",
              "      <th>train_label</th>\n",
              "    </tr>\n",
              "  </thead>\n",
              "  <tbody>\n",
              "    <tr>\n",
              "      <th>0</th>\n",
              "      <td>103855</td>\n",
              "      <td>A multivariate model containing CADEES items a...</td>\n",
              "      <td>RESULTS</td>\n",
              "    </tr>\n",
              "    <tr>\n",
              "      <th>1</th>\n",
              "      <td>161039</td>\n",
              "      <td>The effect evaluation will focus on performanc...</td>\n",
              "      <td>METHODS</td>\n",
              "    </tr>\n",
              "    <tr>\n",
              "      <th>2</th>\n",
              "      <td>35</td>\n",
              "      <td>Hands-on practice is key .\\n</td>\n",
              "      <td>CONCLUSIONS</td>\n",
              "    </tr>\n",
              "    <tr>\n",
              "      <th>3</th>\n",
              "      <td>55599</td>\n",
              "      <td>The present study examines the linkages across...</td>\n",
              "      <td>BACKGROUND</td>\n",
              "    </tr>\n",
              "    <tr>\n",
              "      <th>4</th>\n",
              "      <td>83622</td>\n",
              "      <td>Douching with lactated Ringer 's solution afte...</td>\n",
              "      <td>CONCLUSIONS</td>\n",
              "    </tr>\n",
              "    <tr>\n",
              "      <th>5</th>\n",
              "      <td>106146</td>\n",
              "      <td>@ ; @:@ -@ ) .\\n</td>\n",
              "      <td>BACKGROUND</td>\n",
              "    </tr>\n",
              "    <tr>\n",
              "      <th>6</th>\n",
              "      <td>44061</td>\n",
              "      <td>Telemedicine increased the percentage of diabe...</td>\n",
              "      <td>CONCLUSIONS</td>\n",
              "    </tr>\n",
              "    <tr>\n",
              "      <th>7</th>\n",
              "      <td>140040</td>\n",
              "      <td>Application of GCI in the pelvic cavity after ...</td>\n",
              "      <td>CONCLUSIONS</td>\n",
              "    </tr>\n",
              "    <tr>\n",
              "      <th>8</th>\n",
              "      <td>43462</td>\n",
              "      <td>Twenty-two subjects with type @ diabetes were ...</td>\n",
              "      <td>METHODS</td>\n",
              "    </tr>\n",
              "    <tr>\n",
              "      <th>9</th>\n",
              "      <td>52694</td>\n",
              "      <td>The percentage of time in the therapeutic INR ...</td>\n",
              "      <td>RESULTS</td>\n",
              "    </tr>\n",
              "  </tbody>\n",
              "</table>\n",
              "</div>\n",
              "      <button class=\"colab-df-convert\" onclick=\"convertToInteractive('df-f381c30d-0d25-4305-9fe7-39dcc452abf6')\"\n",
              "              title=\"Convert this dataframe to an interactive table.\"\n",
              "              style=\"display:none;\">\n",
              "        \n",
              "  <svg xmlns=\"http://www.w3.org/2000/svg\" height=\"24px\"viewBox=\"0 0 24 24\"\n",
              "       width=\"24px\">\n",
              "    <path d=\"M0 0h24v24H0V0z\" fill=\"none\"/>\n",
              "    <path d=\"M18.56 5.44l.94 2.06.94-2.06 2.06-.94-2.06-.94-.94-2.06-.94 2.06-2.06.94zm-11 1L8.5 8.5l.94-2.06 2.06-.94-2.06-.94L8.5 2.5l-.94 2.06-2.06.94zm10 10l.94 2.06.94-2.06 2.06-.94-2.06-.94-.94-2.06-.94 2.06-2.06.94z\"/><path d=\"M17.41 7.96l-1.37-1.37c-.4-.4-.92-.59-1.43-.59-.52 0-1.04.2-1.43.59L10.3 9.45l-7.72 7.72c-.78.78-.78 2.05 0 2.83L4 21.41c.39.39.9.59 1.41.59.51 0 1.02-.2 1.41-.59l7.78-7.78 2.81-2.81c.8-.78.8-2.07 0-2.86zM5.41 20L4 18.59l7.72-7.72 1.47 1.35L5.41 20z\"/>\n",
              "  </svg>\n",
              "      </button>\n",
              "      \n",
              "  <style>\n",
              "    .colab-df-container {\n",
              "      display:flex;\n",
              "      flex-wrap:wrap;\n",
              "      gap: 12px;\n",
              "    }\n",
              "\n",
              "    .colab-df-convert {\n",
              "      background-color: #E8F0FE;\n",
              "      border: none;\n",
              "      border-radius: 50%;\n",
              "      cursor: pointer;\n",
              "      display: none;\n",
              "      fill: #1967D2;\n",
              "      height: 32px;\n",
              "      padding: 0 0 0 0;\n",
              "      width: 32px;\n",
              "    }\n",
              "\n",
              "    .colab-df-convert:hover {\n",
              "      background-color: #E2EBFA;\n",
              "      box-shadow: 0px 1px 2px rgba(60, 64, 67, 0.3), 0px 1px 3px 1px rgba(60, 64, 67, 0.15);\n",
              "      fill: #174EA6;\n",
              "    }\n",
              "\n",
              "    [theme=dark] .colab-df-convert {\n",
              "      background-color: #3B4455;\n",
              "      fill: #D2E3FC;\n",
              "    }\n",
              "\n",
              "    [theme=dark] .colab-df-convert:hover {\n",
              "      background-color: #434B5C;\n",
              "      box-shadow: 0px 1px 3px 1px rgba(0, 0, 0, 0.15);\n",
              "      filter: drop-shadow(0px 1px 2px rgba(0, 0, 0, 0.3));\n",
              "      fill: #FFFFFF;\n",
              "    }\n",
              "  </style>\n",
              "\n",
              "      <script>\n",
              "        const buttonEl =\n",
              "          document.querySelector('#df-f381c30d-0d25-4305-9fe7-39dcc452abf6 button.colab-df-convert');\n",
              "        buttonEl.style.display =\n",
              "          google.colab.kernel.accessAllowed ? 'block' : 'none';\n",
              "\n",
              "        async function convertToInteractive(key) {\n",
              "          const element = document.querySelector('#df-f381c30d-0d25-4305-9fe7-39dcc452abf6');\n",
              "          const dataTable =\n",
              "            await google.colab.kernel.invokeFunction('convertToInteractive',\n",
              "                                                     [key], {});\n",
              "          if (!dataTable) return;\n",
              "\n",
              "          const docLinkHtml = 'Like what you see? Visit the ' +\n",
              "            '<a target=\"_blank\" href=https://colab.research.google.com/notebooks/data_table.ipynb>data table notebook</a>'\n",
              "            + ' to learn more about interactive tables.';\n",
              "          element.innerHTML = '';\n",
              "          dataTable['output_type'] = 'display_data';\n",
              "          await google.colab.output.renderOutput(dataTable, element);\n",
              "          const docLink = document.createElement('div');\n",
              "          docLink.innerHTML = docLinkHtml;\n",
              "          element.appendChild(docLink);\n",
              "        }\n",
              "      </script>\n",
              "    </div>\n",
              "  </div>\n",
              "  "
            ]
          },
          "metadata": {},
          "execution_count": 97
        }
      ]
    },
    {
      "cell_type": "markdown",
      "source": [
        "remove the old indexes."
      ],
      "metadata": {
        "id": "1VajFElZLVXh"
      }
    },
    {
      "cell_type": "code",
      "source": [
        "train_df_shuffeled = train_df_shuffeled.drop(['index'], axis=1)\n",
        "valid_df_shuffeled = valid_df_shuffeled.drop(['index'], axis=1)\n",
        "test_df_shuffeled = test_df_shuffeled.drop(['index'], axis=1)"
      ],
      "metadata": {
        "id": "5jJh6oMeRmbD"
      },
      "execution_count": 98,
      "outputs": []
    },
    {
      "cell_type": "code",
      "source": [
        "train_df_shuffeled.head()"
      ],
      "metadata": {
        "colab": {
          "base_uri": "https://localhost:8080/",
          "height": 206
        },
        "id": "qGTi5NtzR2rl",
        "outputId": "cfc1ef5d-5e28-4081-afad-41e65d035be2"
      },
      "execution_count": 99,
      "outputs": [
        {
          "output_type": "execute_result",
          "data": {
            "text/plain": [
              "                                          train_text  train_label\n",
              "0  A multivariate model containing CADEES items a...      RESULTS\n",
              "1  The effect evaluation will focus on performanc...      METHODS\n",
              "2                       Hands-on practice is key .\\n  CONCLUSIONS\n",
              "3  The present study examines the linkages across...   BACKGROUND\n",
              "4  Douching with lactated Ringer 's solution afte...  CONCLUSIONS"
            ],
            "text/html": [
              "\n",
              "  <div id=\"df-ff6b256c-d82a-48fb-955f-30132ce337b4\">\n",
              "    <div class=\"colab-df-container\">\n",
              "      <div>\n",
              "<style scoped>\n",
              "    .dataframe tbody tr th:only-of-type {\n",
              "        vertical-align: middle;\n",
              "    }\n",
              "\n",
              "    .dataframe tbody tr th {\n",
              "        vertical-align: top;\n",
              "    }\n",
              "\n",
              "    .dataframe thead th {\n",
              "        text-align: right;\n",
              "    }\n",
              "</style>\n",
              "<table border=\"1\" class=\"dataframe\">\n",
              "  <thead>\n",
              "    <tr style=\"text-align: right;\">\n",
              "      <th></th>\n",
              "      <th>train_text</th>\n",
              "      <th>train_label</th>\n",
              "    </tr>\n",
              "  </thead>\n",
              "  <tbody>\n",
              "    <tr>\n",
              "      <th>0</th>\n",
              "      <td>A multivariate model containing CADEES items a...</td>\n",
              "      <td>RESULTS</td>\n",
              "    </tr>\n",
              "    <tr>\n",
              "      <th>1</th>\n",
              "      <td>The effect evaluation will focus on performanc...</td>\n",
              "      <td>METHODS</td>\n",
              "    </tr>\n",
              "    <tr>\n",
              "      <th>2</th>\n",
              "      <td>Hands-on practice is key .\\n</td>\n",
              "      <td>CONCLUSIONS</td>\n",
              "    </tr>\n",
              "    <tr>\n",
              "      <th>3</th>\n",
              "      <td>The present study examines the linkages across...</td>\n",
              "      <td>BACKGROUND</td>\n",
              "    </tr>\n",
              "    <tr>\n",
              "      <th>4</th>\n",
              "      <td>Douching with lactated Ringer 's solution afte...</td>\n",
              "      <td>CONCLUSIONS</td>\n",
              "    </tr>\n",
              "  </tbody>\n",
              "</table>\n",
              "</div>\n",
              "      <button class=\"colab-df-convert\" onclick=\"convertToInteractive('df-ff6b256c-d82a-48fb-955f-30132ce337b4')\"\n",
              "              title=\"Convert this dataframe to an interactive table.\"\n",
              "              style=\"display:none;\">\n",
              "        \n",
              "  <svg xmlns=\"http://www.w3.org/2000/svg\" height=\"24px\"viewBox=\"0 0 24 24\"\n",
              "       width=\"24px\">\n",
              "    <path d=\"M0 0h24v24H0V0z\" fill=\"none\"/>\n",
              "    <path d=\"M18.56 5.44l.94 2.06.94-2.06 2.06-.94-2.06-.94-.94-2.06-.94 2.06-2.06.94zm-11 1L8.5 8.5l.94-2.06 2.06-.94-2.06-.94L8.5 2.5l-.94 2.06-2.06.94zm10 10l.94 2.06.94-2.06 2.06-.94-2.06-.94-.94-2.06-.94 2.06-2.06.94z\"/><path d=\"M17.41 7.96l-1.37-1.37c-.4-.4-.92-.59-1.43-.59-.52 0-1.04.2-1.43.59L10.3 9.45l-7.72 7.72c-.78.78-.78 2.05 0 2.83L4 21.41c.39.39.9.59 1.41.59.51 0 1.02-.2 1.41-.59l7.78-7.78 2.81-2.81c.8-.78.8-2.07 0-2.86zM5.41 20L4 18.59l7.72-7.72 1.47 1.35L5.41 20z\"/>\n",
              "  </svg>\n",
              "      </button>\n",
              "      \n",
              "  <style>\n",
              "    .colab-df-container {\n",
              "      display:flex;\n",
              "      flex-wrap:wrap;\n",
              "      gap: 12px;\n",
              "    }\n",
              "\n",
              "    .colab-df-convert {\n",
              "      background-color: #E8F0FE;\n",
              "      border: none;\n",
              "      border-radius: 50%;\n",
              "      cursor: pointer;\n",
              "      display: none;\n",
              "      fill: #1967D2;\n",
              "      height: 32px;\n",
              "      padding: 0 0 0 0;\n",
              "      width: 32px;\n",
              "    }\n",
              "\n",
              "    .colab-df-convert:hover {\n",
              "      background-color: #E2EBFA;\n",
              "      box-shadow: 0px 1px 2px rgba(60, 64, 67, 0.3), 0px 1px 3px 1px rgba(60, 64, 67, 0.15);\n",
              "      fill: #174EA6;\n",
              "    }\n",
              "\n",
              "    [theme=dark] .colab-df-convert {\n",
              "      background-color: #3B4455;\n",
              "      fill: #D2E3FC;\n",
              "    }\n",
              "\n",
              "    [theme=dark] .colab-df-convert:hover {\n",
              "      background-color: #434B5C;\n",
              "      box-shadow: 0px 1px 3px 1px rgba(0, 0, 0, 0.15);\n",
              "      filter: drop-shadow(0px 1px 2px rgba(0, 0, 0, 0.3));\n",
              "      fill: #FFFFFF;\n",
              "    }\n",
              "  </style>\n",
              "\n",
              "      <script>\n",
              "        const buttonEl =\n",
              "          document.querySelector('#df-ff6b256c-d82a-48fb-955f-30132ce337b4 button.colab-df-convert');\n",
              "        buttonEl.style.display =\n",
              "          google.colab.kernel.accessAllowed ? 'block' : 'none';\n",
              "\n",
              "        async function convertToInteractive(key) {\n",
              "          const element = document.querySelector('#df-ff6b256c-d82a-48fb-955f-30132ce337b4');\n",
              "          const dataTable =\n",
              "            await google.colab.kernel.invokeFunction('convertToInteractive',\n",
              "                                                     [key], {});\n",
              "          if (!dataTable) return;\n",
              "\n",
              "          const docLinkHtml = 'Like what you see? Visit the ' +\n",
              "            '<a target=\"_blank\" href=https://colab.research.google.com/notebooks/data_table.ipynb>data table notebook</a>'\n",
              "            + ' to learn more about interactive tables.';\n",
              "          element.innerHTML = '';\n",
              "          dataTable['output_type'] = 'display_data';\n",
              "          await google.colab.output.renderOutput(dataTable, element);\n",
              "          const docLink = document.createElement('div');\n",
              "          docLink.innerHTML = docLinkHtml;\n",
              "          element.appendChild(docLink);\n",
              "        }\n",
              "      </script>\n",
              "    </div>\n",
              "  </div>\n",
              "  "
            ]
          },
          "metadata": {},
          "execution_count": 99
        }
      ]
    },
    {
      "cell_type": "code",
      "source": [
        "train_df_shuffeled['train_label'].value_counts()"
      ],
      "metadata": {
        "colab": {
          "base_uri": "https://localhost:8080/"
        },
        "id": "hwaIMxNipMm7",
        "outputId": "f3edc8ac-4b12-4db1-b859-a8378f6f1143"
      },
      "execution_count": 100,
      "outputs": [
        {
          "output_type": "execute_result",
          "data": {
            "text/plain": [
              "METHODS        59353\n",
              "RESULTS        57953\n",
              "CONCLUSIONS    27168\n",
              "BACKGROUND     21727\n",
              "OBJECTIVE      13839\n",
              "Name: train_label, dtype: int64"
            ]
          },
          "metadata": {},
          "execution_count": 100
        }
      ]
    },
    {
      "cell_type": "markdown",
      "source": [
        "Use OneHotEncoder to convert text lables to numbers."
      ],
      "metadata": {
        "id": "HKIBGLWCLc_5"
      }
    },
    {
      "cell_type": "code",
      "source": [
        "from sklearn.preprocessing import OneHotEncoder\n",
        "one_hot_encoder = OneHotEncoder(sparse=False)\n",
        "train_labels_one_hot = one_hot_encoder.fit_transform(train_df_shuffeled['train_label'].to_numpy().reshape(-1, 1))\n",
        "val_labels_one_hot = one_hot_encoder.transform(valid_df_shuffeled[\"valid_label\"].to_numpy().reshape(-1, 1))\n",
        "test_labels_one_hot = one_hot_encoder.transform(test_df_shuffeled[\"test_label\"].to_numpy().reshape(-1, 1))\n",
        "\n",
        "# Check what training labels look like\n",
        "train_labels_one_hot"
      ],
      "metadata": {
        "colab": {
          "base_uri": "https://localhost:8080/"
        },
        "id": "hxz4VvZYbeKR",
        "outputId": "0ba931f0-a70d-4cbc-ba91-3920a7a639a8"
      },
      "execution_count": 101,
      "outputs": [
        {
          "output_type": "execute_result",
          "data": {
            "text/plain": [
              "array([[0., 0., 0., 0., 1.],\n",
              "       [0., 0., 1., 0., 0.],\n",
              "       [0., 1., 0., 0., 0.],\n",
              "       ...,\n",
              "       [0., 0., 0., 0., 1.],\n",
              "       [0., 0., 1., 0., 0.],\n",
              "       [0., 0., 1., 0., 0.]])"
            ]
          },
          "metadata": {},
          "execution_count": 101
        }
      ]
    },
    {
      "cell_type": "markdown",
      "source": [
        "Encode labeles for sklearn base_models."
      ],
      "metadata": {
        "id": "4IuPSEkULjn2"
      }
    },
    {
      "cell_type": "code",
      "source": [
        "\n",
        "# Extract labels (\"target\" columns) and encode them into integers \n",
        "from sklearn.preprocessing import LabelEncoder\n",
        "label_encoder = LabelEncoder()\n",
        "train_labels_encoded = label_encoder.fit_transform(train_df_shuffeled['train_label'].to_numpy())\n",
        "val_labels_encoded = label_encoder.transform(valid_df_shuffeled[\"valid_label\"].to_numpy())\n",
        "test_labels_encoded = label_encoder.transform(test_df_shuffeled[\"test_label\"].to_numpy())\n",
        "\n",
        "# Check what training labels look like\n",
        "train_labels_encoded"
      ],
      "metadata": {
        "colab": {
          "base_uri": "https://localhost:8080/"
        },
        "id": "xrVsfwXTeJf6",
        "outputId": "29fb663d-6a8d-4d55-f6fb-c461da84ce8b"
      },
      "execution_count": 102,
      "outputs": [
        {
          "output_type": "execute_result",
          "data": {
            "text/plain": [
              "array([4, 2, 1, ..., 4, 2, 2])"
            ]
          },
          "metadata": {},
          "execution_count": 102
        }
      ]
    },
    {
      "cell_type": "code",
      "source": [
        "num_classes = len(label_encoder.classes_)\n",
        "class_names = label_encoder.classes_\n",
        "num_classes, class_names"
      ],
      "metadata": {
        "colab": {
          "base_uri": "https://localhost:8080/"
        },
        "id": "NeLYFXgCej0i",
        "outputId": "ec245235-fcb2-4275-9167-099dd8fe8619"
      },
      "execution_count": 103,
      "outputs": [
        {
          "output_type": "execute_result",
          "data": {
            "text/plain": [
              "(5, array(['BACKGROUND', 'CONCLUSIONS', 'METHODS', 'OBJECTIVE', 'RESULTS'],\n",
              "       dtype=object))"
            ]
          },
          "metadata": {},
          "execution_count": 103
        }
      ]
    },
    {
      "cell_type": "markdown",
      "source": [
        "conver the train and valid sets to list."
      ],
      "metadata": {
        "id": "FN3e1r2nLpsy"
      }
    },
    {
      "cell_type": "code",
      "source": [
        "train_X = train_df_shuffeled['train_text'].tolist()\n",
        "valid_X = valid_df_shuffeled['valid_text'].tolist()"
      ],
      "metadata": {
        "id": "VOKRDXPpezRq"
      },
      "execution_count": 104,
      "outputs": []
    },
    {
      "cell_type": "markdown",
      "source": [
        "Create the base model"
      ],
      "metadata": {
        "id": "C-T3BrnZLuKo"
      }
    },
    {
      "cell_type": "code",
      "source": [
        "from sklearn.feature_extraction.text import TfidfVectorizer\n",
        "from sklearn.naive_bayes import MultinomialNB\n",
        "from sklearn.pipeline import Pipeline\n",
        "\n",
        "# Create a pipeline\n",
        "model_0 = Pipeline([\n",
        "  (\"tf-idf\", TfidfVectorizer()),\n",
        "  (\"clf\", MultinomialNB())\n",
        "])\n",
        "\n",
        "# Fit the pipeline to the training data\n",
        "model_0.fit(train_X, \n",
        "            train_labels_encoded);"
      ],
      "metadata": {
        "id": "btZmlucTsxo8"
      },
      "execution_count": 105,
      "outputs": []
    },
    {
      "cell_type": "code",
      "source": [
        "model_0.score(train_X, train_labels_encoded)"
      ],
      "metadata": {
        "colab": {
          "base_uri": "https://localhost:8080/"
        },
        "id": "ZMqrn7w2tBG5",
        "outputId": "0ed73694-1f09-49ca-d042-0978d033b516"
      },
      "execution_count": 106,
      "outputs": [
        {
          "output_type": "execute_result",
          "data": {
            "text/plain": [
              "0.7516829593423684"
            ]
          },
          "metadata": {},
          "execution_count": 106
        }
      ]
    },
    {
      "cell_type": "markdown",
      "source": [
        "evaluate the base model on validation dataset."
      ],
      "metadata": {
        "id": "epZwtZ1ULw9T"
      }
    },
    {
      "cell_type": "code",
      "source": [
        "model_0_eval = model_0.score(valid_X, val_labels_encoded)\n",
        "model_0_eval"
      ],
      "metadata": {
        "colab": {
          "base_uri": "https://localhost:8080/"
        },
        "id": "hj_xMQFYuO38",
        "outputId": "3486f40f-1709-4052-b419-45fcea594ff4"
      },
      "execution_count": 202,
      "outputs": [
        {
          "output_type": "execute_result",
          "data": {
            "text/plain": [
              "0.7218323844829869"
            ]
          },
          "metadata": {},
          "execution_count": 202
        }
      ]
    },
    {
      "cell_type": "markdown",
      "source": [
        "TextVectorization to prepare the data for deep learning models"
      ],
      "metadata": {
        "id": "iapzJavOL4JU"
      }
    },
    {
      "cell_type": "code",
      "source": [
        "# How many words are in our vocabulary? (taken from 3.2 in https://arxiv.org/pdf/1710.06071.pdf)\n",
        "max_tokens = 68000\n",
        "output_sequence_length=55"
      ],
      "metadata": {
        "id": "cw5m_TSdwFE9"
      },
      "execution_count": 108,
      "outputs": []
    },
    {
      "cell_type": "code",
      "source": [
        "import tensorflow as tf\n",
        "from tensorflow.keras.layers.experimental.preprocessing import TextVectorization\n",
        "\n",
        "text_vectorizer = TextVectorization(max_tokens= max_tokens, \n",
        "                                    standardize=\"lower_and_strip_punctuation\", \n",
        "                                    split=\"whitespace\",\n",
        "                                    ngrams=None, \n",
        "                                    output_mode=\"int\", \n",
        "                                    output_sequence_length=55)\n"
      ],
      "metadata": {
        "id": "qkMRnvUxpXhs"
      },
      "execution_count": 109,
      "outputs": []
    },
    {
      "cell_type": "code",
      "source": [
        "text_vectorizer.adapt(train_X)"
      ],
      "metadata": {
        "id": "0Z72XrfKxUxy"
      },
      "execution_count": 110,
      "outputs": []
    },
    {
      "cell_type": "code",
      "source": [
        "sample_sentence= \"these days inflation rate is goinig up and up, then the us government needs to increase the interest rate to fight against the inflation.\"\n",
        "text_vectorizer(sample_sentence)"
      ],
      "metadata": {
        "colab": {
          "base_uri": "https://localhost:8080/"
        },
        "id": "ecPKimzxwpX_",
        "outputId": "2ff83008-3182-440d-a545-d3879d3f0ed6"
      },
      "execution_count": 111,
      "outputs": [
        {
          "output_type": "execute_result",
          "data": {
            "text/plain": [
              "<tf.Tensor: shape=(55,), dtype=int64, numpy=\n",
              "array([  111,    84,  8253,    78,    20,     1,   303,     3,   303,\n",
              "         516,     2,   850,  5207,  1524,     6,   179,     2,  1511,\n",
              "          78,     6, 31302,   644,     2,  8253,     0,     0,     0,\n",
              "           0,     0,     0,     0,     0,     0,     0,     0,     0,\n",
              "           0,     0,     0,     0,     0,     0,     0,     0,     0,\n",
              "           0,     0,     0,     0,     0,     0,     0,     0,     0,\n",
              "           0])>"
            ]
          },
          "metadata": {},
          "execution_count": 111
        }
      ]
    },
    {
      "cell_type": "code",
      "source": [
        "input_len = len(text_vectorizer.get_vocabulary())"
      ],
      "metadata": {
        "id": "GHpX5OwZVW1s"
      },
      "execution_count": 112,
      "outputs": []
    },
    {
      "cell_type": "markdown",
      "source": [
        "use the embedding model."
      ],
      "metadata": {
        "id": "OwqOK-RZMEcM"
      }
    },
    {
      "cell_type": "code",
      "source": [
        "tf.random.set_seed(42)\n",
        "\n",
        "embedding = tf.keras.layers.Embedding(input_dim= input_len, # length of vocabulary\n",
        "                               output_dim=128, \n",
        "                               mask_zero=True,\n",
        "                               name=\"token_embedding\")\n",
        "\n",
        "embedding"
      ],
      "metadata": {
        "colab": {
          "base_uri": "https://localhost:8080/"
        },
        "id": "FCnAMV3hxPed",
        "outputId": "d1b339d1-8554-45bf-fb6d-2493ecf428fe"
      },
      "execution_count": 113,
      "outputs": [
        {
          "output_type": "execute_result",
          "data": {
            "text/plain": [
              "<keras.layers.core.embedding.Embedding at 0x7f3d5c556f40>"
            ]
          },
          "metadata": {},
          "execution_count": 113
        }
      ]
    },
    {
      "cell_type": "code",
      "source": [
        "embedding(text_vectorizer(sample_sentence))"
      ],
      "metadata": {
        "colab": {
          "base_uri": "https://localhost:8080/"
        },
        "id": "bxDK4V6By6N3",
        "outputId": "4023a207-4624-4941-958c-968b4a93740d"
      },
      "execution_count": 114,
      "outputs": [
        {
          "output_type": "execute_result",
          "data": {
            "text/plain": [
              "<tf.Tensor: shape=(55, 128), dtype=float32, numpy=\n",
              "array([[ 0.02442567,  0.00734949, -0.00630622, ..., -0.01308938,\n",
              "         0.01197132, -0.04500763],\n",
              "       [ 0.00518262, -0.04472364, -0.04741461, ...,  0.01816589,\n",
              "        -0.04061639, -0.00980747],\n",
              "       [ 0.01235603,  0.01323694,  0.04364059, ..., -0.02180973,\n",
              "         0.001171  ,  0.00774747],\n",
              "       ...,\n",
              "       [ 0.01645621, -0.00589932, -0.01471175, ..., -0.02511839,\n",
              "         0.00912381, -0.00024097],\n",
              "       [ 0.01645621, -0.00589932, -0.01471175, ..., -0.02511839,\n",
              "         0.00912381, -0.00024097],\n",
              "       [ 0.01645621, -0.00589932, -0.01471175, ..., -0.02511839,\n",
              "         0.00912381, -0.00024097]], dtype=float32)>"
            ]
          },
          "metadata": {},
          "execution_count": 114
        }
      ]
    },
    {
      "cell_type": "markdown",
      "source": [
        "prepare the data by slicing and prefetch to increase the speed of deep learning models."
      ],
      "metadata": {
        "id": "9St3bckXMTYj"
      }
    },
    {
      "cell_type": "code",
      "source": [
        "train_dataset = tf.data.Dataset.from_tensor_slices((train_X, train_labels_one_hot))\n",
        "valid_dataset = tf.data.Dataset.from_tensor_slices((valid_X, val_labels_one_hot))\n",
        "\n",
        "train_dataset"
      ],
      "metadata": {
        "colab": {
          "base_uri": "https://localhost:8080/"
        },
        "id": "UX3AuriA0ET4",
        "outputId": "cf6bdd48-01dc-464c-b55c-039b0fe7559f"
      },
      "execution_count": 115,
      "outputs": [
        {
          "output_type": "execute_result",
          "data": {
            "text/plain": [
              "<TensorSliceDataset element_spec=(TensorSpec(shape=(), dtype=tf.string, name=None), TensorSpec(shape=(5,), dtype=tf.float64, name=None))>"
            ]
          },
          "metadata": {},
          "execution_count": 115
        }
      ]
    },
    {
      "cell_type": "code",
      "source": [
        "train_dataset = train_dataset.batch(32).prefetch(tf.data.AUTOTUNE)\n",
        "valid_dataset = valid_dataset.batch(32).prefetch(tf.data.AUTOTUNE)\n",
        "\n",
        "train_dataset"
      ],
      "metadata": {
        "colab": {
          "base_uri": "https://localhost:8080/"
        },
        "id": "8XdfGWIE48Fy",
        "outputId": "d8dabb6c-b720-4362-80e6-859be39e9386"
      },
      "execution_count": 116,
      "outputs": [
        {
          "output_type": "execute_result",
          "data": {
            "text/plain": [
              "<PrefetchDataset element_spec=(TensorSpec(shape=(None,), dtype=tf.string, name=None), TensorSpec(shape=(None, 5), dtype=tf.float64, name=None))>"
            ]
          },
          "metadata": {},
          "execution_count": 116
        }
      ]
    },
    {
      "cell_type": "code",
      "source": [
        "from tensorflow.keras import layers"
      ],
      "metadata": {
        "id": "k3-c3xY6zSUk"
      },
      "execution_count": 117,
      "outputs": []
    },
    {
      "cell_type": "markdown",
      "source": [
        "a simple Conv1D model."
      ],
      "metadata": {
        "id": "oJVIhrhWMXsk"
      }
    },
    {
      "cell_type": "code",
      "source": [
        "inputs = layers.Input(shape=(1,), dtype=tf.string)\n",
        "text_vectors = text_vectorizer(inputs) # vectorize text inputs\n",
        "token_embeddings = embedding(text_vectors) # create embedding\n",
        "x = layers.Conv1D(64, kernel_size=5, padding=\"same\", activation=\"relu\")(token_embeddings)\n",
        "x = layers.GlobalAveragePooling1D()(x) # condense the output of our feature vector\n",
        "outputs = layers.Dense(5, activation=\"softmax\")(x)\n",
        "model_1 = tf.keras.Model(inputs, outputs)\n",
        "\n",
        "# Compile\n",
        "model_1.compile(loss=\"categorical_crossentropy\", \n",
        "                optimizer=tf.keras.optimizers.Adam(),\n",
        "                metrics=[\"accuracy\"])\n",
        "\n",
        "model_1.summary()\n"
      ],
      "metadata": {
        "colab": {
          "base_uri": "https://localhost:8080/"
        },
        "id": "tWFK40j4y-w9",
        "outputId": "6f3ae73d-93f9-4c22-89d9-793228633cdf"
      },
      "execution_count": 118,
      "outputs": [
        {
          "output_type": "stream",
          "name": "stdout",
          "text": [
            "Model: \"model_1\"\n",
            "_________________________________________________________________\n",
            " Layer (type)                Output Shape              Param #   \n",
            "=================================================================\n",
            " input_2 (InputLayer)        [(None, 1)]               0         \n",
            "                                                                 \n",
            " text_vectorization_1 (TextV  (None, 55)               0         \n",
            " ectorization)                                                   \n",
            "                                                                 \n",
            " token_embedding (Embedding)  (None, 55, 128)          8299648   \n",
            "                                                                 \n",
            " conv1d_1 (Conv1D)           (None, 55, 64)            41024     \n",
            "                                                                 \n",
            " global_average_pooling1d_1   (None, 64)               0         \n",
            " (GlobalAveragePooling1D)                                        \n",
            "                                                                 \n",
            " dense_5 (Dense)             (None, 5)                 325       \n",
            "                                                                 \n",
            "=================================================================\n",
            "Total params: 8,340,997\n",
            "Trainable params: 8,340,997\n",
            "Non-trainable params: 0\n",
            "_________________________________________________________________\n"
          ]
        }
      ]
    },
    {
      "cell_type": "code",
      "source": [
        "model_1_history = model_1.fit(train_dataset,\n",
        "                              steps_per_epoch=int(0.1 * len(train_dataset)), # only fit on 10% of batches for faster training time\n",
        "                              epochs=10,\n",
        "                              validation_data= valid_dataset,\n",
        "                              validation_steps=int(0.1 * len(valid_dataset))\n",
        "                              \n",
        "                              )"
      ],
      "metadata": {
        "colab": {
          "base_uri": "https://localhost:8080/"
        },
        "id": "hpu9Jg0Pzuad",
        "outputId": "737a4a2a-444c-4822-8e2c-4b3ae29d23ca"
      },
      "execution_count": 203,
      "outputs": [
        {
          "output_type": "stream",
          "name": "stdout",
          "text": [
            "Epoch 1/10\n",
            "562/562 [==============================] - 6s 10ms/step - loss: 0.7678 - accuracy: 0.7653 - val_loss: 0.6147 - val_accuracy: 0.7866\n",
            "Epoch 2/10\n",
            "562/562 [==============================] - 5s 9ms/step - loss: 0.5200 - accuracy: 0.8158 - val_loss: 0.5834 - val_accuracy: 0.7979\n",
            "Epoch 3/10\n",
            "562/562 [==============================] - 5s 8ms/step - loss: 0.4844 - accuracy: 0.8308 - val_loss: 0.5732 - val_accuracy: 0.8009\n",
            "Epoch 4/10\n",
            "562/562 [==============================] - 5s 8ms/step - loss: 0.4766 - accuracy: 0.8355 - val_loss: 0.5740 - val_accuracy: 0.7942\n",
            "Epoch 5/10\n",
            "562/562 [==============================] - 5s 8ms/step - loss: 0.4765 - accuracy: 0.8371 - val_loss: 0.5456 - val_accuracy: 0.8012\n",
            "Epoch 6/10\n",
            "562/562 [==============================] - 6s 10ms/step - loss: 0.4614 - accuracy: 0.8422 - val_loss: 0.5525 - val_accuracy: 0.7995\n",
            "Epoch 7/10\n",
            "562/562 [==============================] - 5s 8ms/step - loss: 0.4588 - accuracy: 0.8410 - val_loss: 0.5417 - val_accuracy: 0.8105\n",
            "Epoch 8/10\n",
            "562/562 [==============================] - 5s 8ms/step - loss: 0.4542 - accuracy: 0.8443 - val_loss: 0.5314 - val_accuracy: 0.8122\n",
            "Epoch 9/10\n",
            "562/562 [==============================] - 5s 8ms/step - loss: 0.4403 - accuracy: 0.8509 - val_loss: 0.5376 - val_accuracy: 0.8122\n",
            "Epoch 10/10\n",
            "562/562 [==============================] - 5s 8ms/step - loss: 0.4315 - accuracy: 0.8532 - val_loss: 0.5370 - val_accuracy: 0.8128\n"
          ]
        }
      ]
    },
    {
      "cell_type": "code",
      "source": [
        "model_1_eval = model_1.evaluate(valid_dataset)\n",
        "model_1_eval"
      ],
      "metadata": {
        "colab": {
          "base_uri": "https://localhost:8080/"
        },
        "id": "yhy-U_L1HgLG",
        "outputId": "0d752ee1-1ff3-4bf9-f6e0-b7faff601f97"
      },
      "execution_count": 204,
      "outputs": [
        {
          "output_type": "stream",
          "name": "stdout",
          "text": [
            "945/945 [==============================] - 4s 5ms/step - loss: 0.5494 - accuracy: 0.8061\n"
          ]
        },
        {
          "output_type": "execute_result",
          "data": {
            "text/plain": [
              "[0.5493935346603394, 0.806103527545929]"
            ]
          },
          "metadata": {},
          "execution_count": 204
        }
      ]
    },
    {
      "cell_type": "code",
      "source": [
        "pd.DataFrame(model_1_history.history)"
      ],
      "metadata": {
        "colab": {
          "base_uri": "https://localhost:8080/",
          "height": 363
        },
        "id": "ktKl7mOigDM7",
        "outputId": "5b29c7a0-5d54-47ce-b436-b083c57459b2"
      },
      "execution_count": 120,
      "outputs": [
        {
          "output_type": "execute_result",
          "data": {
            "text/plain": [
              "       loss  accuracy  val_loss  val_accuracy\n",
              "0  0.912020  0.638345  0.657106      0.750997\n",
              "1  0.642756  0.763846  0.601742      0.780253\n",
              "2  0.604077  0.783363  0.581113      0.791223\n",
              "3  0.596150  0.786421  0.576610      0.797540\n",
              "4  0.587293  0.791314  0.554725      0.800199\n",
              "5  0.565137  0.798154  0.543668      0.805851\n",
              "6  0.556200  0.802880  0.534491      0.806516\n",
              "7  0.548788  0.807329  0.525903      0.811835\n",
              "8  0.540953  0.808719  0.519208      0.807846\n",
              "9  0.525980  0.813112  0.516304      0.813830"
            ],
            "text/html": [
              "\n",
              "  <div id=\"df-bf39d3d9-2daa-4b2d-8be6-1c696e93f473\">\n",
              "    <div class=\"colab-df-container\">\n",
              "      <div>\n",
              "<style scoped>\n",
              "    .dataframe tbody tr th:only-of-type {\n",
              "        vertical-align: middle;\n",
              "    }\n",
              "\n",
              "    .dataframe tbody tr th {\n",
              "        vertical-align: top;\n",
              "    }\n",
              "\n",
              "    .dataframe thead th {\n",
              "        text-align: right;\n",
              "    }\n",
              "</style>\n",
              "<table border=\"1\" class=\"dataframe\">\n",
              "  <thead>\n",
              "    <tr style=\"text-align: right;\">\n",
              "      <th></th>\n",
              "      <th>loss</th>\n",
              "      <th>accuracy</th>\n",
              "      <th>val_loss</th>\n",
              "      <th>val_accuracy</th>\n",
              "    </tr>\n",
              "  </thead>\n",
              "  <tbody>\n",
              "    <tr>\n",
              "      <th>0</th>\n",
              "      <td>0.912020</td>\n",
              "      <td>0.638345</td>\n",
              "      <td>0.657106</td>\n",
              "      <td>0.750997</td>\n",
              "    </tr>\n",
              "    <tr>\n",
              "      <th>1</th>\n",
              "      <td>0.642756</td>\n",
              "      <td>0.763846</td>\n",
              "      <td>0.601742</td>\n",
              "      <td>0.780253</td>\n",
              "    </tr>\n",
              "    <tr>\n",
              "      <th>2</th>\n",
              "      <td>0.604077</td>\n",
              "      <td>0.783363</td>\n",
              "      <td>0.581113</td>\n",
              "      <td>0.791223</td>\n",
              "    </tr>\n",
              "    <tr>\n",
              "      <th>3</th>\n",
              "      <td>0.596150</td>\n",
              "      <td>0.786421</td>\n",
              "      <td>0.576610</td>\n",
              "      <td>0.797540</td>\n",
              "    </tr>\n",
              "    <tr>\n",
              "      <th>4</th>\n",
              "      <td>0.587293</td>\n",
              "      <td>0.791314</td>\n",
              "      <td>0.554725</td>\n",
              "      <td>0.800199</td>\n",
              "    </tr>\n",
              "    <tr>\n",
              "      <th>5</th>\n",
              "      <td>0.565137</td>\n",
              "      <td>0.798154</td>\n",
              "      <td>0.543668</td>\n",
              "      <td>0.805851</td>\n",
              "    </tr>\n",
              "    <tr>\n",
              "      <th>6</th>\n",
              "      <td>0.556200</td>\n",
              "      <td>0.802880</td>\n",
              "      <td>0.534491</td>\n",
              "      <td>0.806516</td>\n",
              "    </tr>\n",
              "    <tr>\n",
              "      <th>7</th>\n",
              "      <td>0.548788</td>\n",
              "      <td>0.807329</td>\n",
              "      <td>0.525903</td>\n",
              "      <td>0.811835</td>\n",
              "    </tr>\n",
              "    <tr>\n",
              "      <th>8</th>\n",
              "      <td>0.540953</td>\n",
              "      <td>0.808719</td>\n",
              "      <td>0.519208</td>\n",
              "      <td>0.807846</td>\n",
              "    </tr>\n",
              "    <tr>\n",
              "      <th>9</th>\n",
              "      <td>0.525980</td>\n",
              "      <td>0.813112</td>\n",
              "      <td>0.516304</td>\n",
              "      <td>0.813830</td>\n",
              "    </tr>\n",
              "  </tbody>\n",
              "</table>\n",
              "</div>\n",
              "      <button class=\"colab-df-convert\" onclick=\"convertToInteractive('df-bf39d3d9-2daa-4b2d-8be6-1c696e93f473')\"\n",
              "              title=\"Convert this dataframe to an interactive table.\"\n",
              "              style=\"display:none;\">\n",
              "        \n",
              "  <svg xmlns=\"http://www.w3.org/2000/svg\" height=\"24px\"viewBox=\"0 0 24 24\"\n",
              "       width=\"24px\">\n",
              "    <path d=\"M0 0h24v24H0V0z\" fill=\"none\"/>\n",
              "    <path d=\"M18.56 5.44l.94 2.06.94-2.06 2.06-.94-2.06-.94-.94-2.06-.94 2.06-2.06.94zm-11 1L8.5 8.5l.94-2.06 2.06-.94-2.06-.94L8.5 2.5l-.94 2.06-2.06.94zm10 10l.94 2.06.94-2.06 2.06-.94-2.06-.94-.94-2.06-.94 2.06-2.06.94z\"/><path d=\"M17.41 7.96l-1.37-1.37c-.4-.4-.92-.59-1.43-.59-.52 0-1.04.2-1.43.59L10.3 9.45l-7.72 7.72c-.78.78-.78 2.05 0 2.83L4 21.41c.39.39.9.59 1.41.59.51 0 1.02-.2 1.41-.59l7.78-7.78 2.81-2.81c.8-.78.8-2.07 0-2.86zM5.41 20L4 18.59l7.72-7.72 1.47 1.35L5.41 20z\"/>\n",
              "  </svg>\n",
              "      </button>\n",
              "      \n",
              "  <style>\n",
              "    .colab-df-container {\n",
              "      display:flex;\n",
              "      flex-wrap:wrap;\n",
              "      gap: 12px;\n",
              "    }\n",
              "\n",
              "    .colab-df-convert {\n",
              "      background-color: #E8F0FE;\n",
              "      border: none;\n",
              "      border-radius: 50%;\n",
              "      cursor: pointer;\n",
              "      display: none;\n",
              "      fill: #1967D2;\n",
              "      height: 32px;\n",
              "      padding: 0 0 0 0;\n",
              "      width: 32px;\n",
              "    }\n",
              "\n",
              "    .colab-df-convert:hover {\n",
              "      background-color: #E2EBFA;\n",
              "      box-shadow: 0px 1px 2px rgba(60, 64, 67, 0.3), 0px 1px 3px 1px rgba(60, 64, 67, 0.15);\n",
              "      fill: #174EA6;\n",
              "    }\n",
              "\n",
              "    [theme=dark] .colab-df-convert {\n",
              "      background-color: #3B4455;\n",
              "      fill: #D2E3FC;\n",
              "    }\n",
              "\n",
              "    [theme=dark] .colab-df-convert:hover {\n",
              "      background-color: #434B5C;\n",
              "      box-shadow: 0px 1px 3px 1px rgba(0, 0, 0, 0.15);\n",
              "      filter: drop-shadow(0px 1px 2px rgba(0, 0, 0, 0.3));\n",
              "      fill: #FFFFFF;\n",
              "    }\n",
              "  </style>\n",
              "\n",
              "      <script>\n",
              "        const buttonEl =\n",
              "          document.querySelector('#df-bf39d3d9-2daa-4b2d-8be6-1c696e93f473 button.colab-df-convert');\n",
              "        buttonEl.style.display =\n",
              "          google.colab.kernel.accessAllowed ? 'block' : 'none';\n",
              "\n",
              "        async function convertToInteractive(key) {\n",
              "          const element = document.querySelector('#df-bf39d3d9-2daa-4b2d-8be6-1c696e93f473');\n",
              "          const dataTable =\n",
              "            await google.colab.kernel.invokeFunction('convertToInteractive',\n",
              "                                                     [key], {});\n",
              "          if (!dataTable) return;\n",
              "\n",
              "          const docLinkHtml = 'Like what you see? Visit the ' +\n",
              "            '<a target=\"_blank\" href=https://colab.research.google.com/notebooks/data_table.ipynb>data table notebook</a>'\n",
              "            + ' to learn more about interactive tables.';\n",
              "          element.innerHTML = '';\n",
              "          dataTable['output_type'] = 'display_data';\n",
              "          await google.colab.output.renderOutput(dataTable, element);\n",
              "          const docLink = document.createElement('div');\n",
              "          docLink.innerHTML = docLinkHtml;\n",
              "          element.appendChild(docLink);\n",
              "        }\n",
              "      </script>\n",
              "    </div>\n",
              "  </div>\n",
              "  "
            ]
          },
          "metadata": {},
          "execution_count": 120
        }
      ]
    },
    {
      "cell_type": "code",
      "source": [
        "pd.DataFrame(model_1_history.history).plot()"
      ],
      "metadata": {
        "colab": {
          "base_uri": "https://localhost:8080/",
          "height": 282
        },
        "id": "nzRvpItbgSLu",
        "outputId": "a8dcd1d9-a49c-497b-d3ab-1c69ea36a671"
      },
      "execution_count": 123,
      "outputs": [
        {
          "output_type": "execute_result",
          "data": {
            "text/plain": [
              "<matplotlib.axes._subplots.AxesSubplot at 0x7f3d5c784160>"
            ]
          },
          "metadata": {},
          "execution_count": 123
        },
        {
          "output_type": "display_data",
          "data": {
            "text/plain": [
              "<Figure size 432x288 with 1 Axes>"
            ],
            "image/png": "[encoded data removed]"
          },
          "metadata": {
            "needs_background": "light"
          }
        }
      ]
    },
    {
      "cell_type": "markdown",
      "source": [
        "A deep Conv1D model."
      ],
      "metadata": {
        "id": "Vrnl0D68MeQ5"
      }
    },
    {
      "cell_type": "code",
      "source": [
        "inputs = layers.Input(shape=(1,), dtype=tf.string)\n",
        "text_vectors = text_vectorizer(inputs) # vectorize text inputs\n",
        "token_embeddings = embedding(text_vectors) # create embedding\n",
        "x = layers.Conv1D(1024, kernel_size=5, padding=\"same\", activation=\"relu\")(token_embeddings)\n",
        "x = layers.Conv1D(512, kernel_size=5, padding=\"same\", activation=\"relu\")(x)\n",
        "x = layers.Conv1D(256, kernel_size=5, padding=\"same\", activation=\"relu\")(x)\n",
        "x = layers.Conv1D(128, kernel_size=5, padding=\"same\", activation=\"relu\")(x)\n",
        "x = layers.Conv1D(64, kernel_size=5, padding=\"same\", activation=\"relu\")(x)\n",
        "x = layers.GlobalAveragePooling1D()(x) # condense the output of our feature vector\n",
        "outputs = layers.Dense(5, activation=\"softmax\")(x)\n",
        "model_2 = tf.keras.Model(inputs, outputs)\n",
        "\n",
        "# Compile\n",
        "model_2.compile(loss=\"categorical_crossentropy\", \n",
        "                optimizer=tf.keras.optimizers.Adam(),\n",
        "                metrics=[\"accuracy\"])\n",
        "\n",
        "model_2.summary()"
      ],
      "metadata": {
        "colab": {
          "base_uri": "https://localhost:8080/"
        },
        "id": "xxgwpQhzgVEU",
        "outputId": "68ea7843-2d01-4998-c768-4772fcf4a8ea"
      },
      "execution_count": 129,
      "outputs": [
        {
          "output_type": "stream",
          "name": "stdout",
          "text": [
            "Model: \"model_4\"\n",
            "_________________________________________________________________\n",
            " Layer (type)                Output Shape              Param #   \n",
            "=================================================================\n",
            " input_6 (InputLayer)        [(None, 1)]               0         \n",
            "                                                                 \n",
            " text_vectorization_1 (TextV  (None, 55)               0         \n",
            " ectorization)                                                   \n",
            "                                                                 \n",
            " token_embedding (Embedding)  (None, 55, 128)          8299648   \n",
            "                                                                 \n",
            " conv1d_10 (Conv1D)          (None, 55, 1024)          656384    \n",
            "                                                                 \n",
            " conv1d_11 (Conv1D)          (None, 55, 512)           2621952   \n",
            "                                                                 \n",
            " conv1d_12 (Conv1D)          (None, 55, 256)           655616    \n",
            "                                                                 \n",
            " conv1d_13 (Conv1D)          (None, 55, 128)           163968    \n",
            "                                                                 \n",
            " conv1d_14 (Conv1D)          (None, 55, 64)            41024     \n",
            "                                                                 \n",
            " global_average_pooling1d_4   (None, 64)               0         \n",
            " (GlobalAveragePooling1D)                                        \n",
            "                                                                 \n",
            " dense_8 (Dense)             (None, 5)                 325       \n",
            "                                                                 \n",
            "=================================================================\n",
            "Total params: 12,438,917\n",
            "Trainable params: 12,438,917\n",
            "Non-trainable params: 0\n",
            "_________________________________________________________________\n"
          ]
        }
      ]
    },
    {
      "cell_type": "code",
      "source": [
        "model_2_history = model_2.fit(train_dataset,\n",
        "                              steps_per_epoch=int(0.1 * len(train_dataset)), # only fit on 10% of batches for faster training time\n",
        "                              epochs=10,\n",
        "                              validation_data= valid_dataset,\n",
        "                              validation_steps=int(0.1 * len(valid_dataset))\n",
        "                              \n",
        "                              )"
      ],
      "metadata": {
        "colab": {
          "base_uri": "https://localhost:8080/"
        },
        "id": "Oj2B4ewmk1R4",
        "outputId": "5befcf62-5eeb-4083-a97b-abc8fccf37b6"
      },
      "execution_count": 205,
      "outputs": [
        {
          "output_type": "stream",
          "name": "stdout",
          "text": [
            "Epoch 1/10\n",
            "562/562 [==============================] - 14s 25ms/step - loss: 0.6398 - accuracy: 0.7760 - val_loss: 0.5835 - val_accuracy: 0.7859\n",
            "Epoch 2/10\n",
            "562/562 [==============================] - 13s 22ms/step - loss: 0.4767 - accuracy: 0.8309 - val_loss: 0.5340 - val_accuracy: 0.8128\n",
            "Epoch 3/10\n",
            "562/562 [==============================] - 13s 22ms/step - loss: 0.4423 - accuracy: 0.8434 - val_loss: 0.5914 - val_accuracy: 0.7962\n",
            "Epoch 4/10\n",
            "562/562 [==============================] - 13s 22ms/step - loss: 0.4321 - accuracy: 0.8516 - val_loss: 0.5609 - val_accuracy: 0.8025\n",
            "Epoch 5/10\n",
            "562/562 [==============================] - 13s 23ms/step - loss: 0.4175 - accuracy: 0.8576 - val_loss: 0.5331 - val_accuracy: 0.8072\n",
            "Epoch 6/10\n",
            "562/562 [==============================] - 12s 21ms/step - loss: 0.4024 - accuracy: 0.8619 - val_loss: 0.5569 - val_accuracy: 0.8025\n",
            "Epoch 7/10\n",
            "562/562 [==============================] - 12s 22ms/step - loss: 0.3936 - accuracy: 0.8671 - val_loss: 0.5454 - val_accuracy: 0.8082\n",
            "Epoch 8/10\n",
            "562/562 [==============================] - 13s 24ms/step - loss: 0.3882 - accuracy: 0.8664 - val_loss: 0.5152 - val_accuracy: 0.8165\n",
            "Epoch 9/10\n",
            "562/562 [==============================] - 13s 23ms/step - loss: 0.3807 - accuracy: 0.8703 - val_loss: 0.5694 - val_accuracy: 0.8025\n",
            "Epoch 10/10\n",
            "562/562 [==============================] - 13s 23ms/step - loss: 0.3671 - accuracy: 0.8764 - val_loss: 0.5349 - val_accuracy: 0.8145\n"
          ]
        }
      ]
    },
    {
      "cell_type": "code",
      "source": [
        "model_2_eval = model_2.evaluate(valid_dataset)\n",
        "model_2_eval"
      ],
      "metadata": {
        "colab": {
          "base_uri": "https://localhost:8080/"
        },
        "id": "-xbhE8j3HbUn",
        "outputId": "949b8865-116e-4a23-e09d-10d2e1ad2e53"
      },
      "execution_count": 206,
      "outputs": [
        {
          "output_type": "stream",
          "name": "stdout",
          "text": [
            "945/945 [==============================] - 7s 7ms/step - loss: 0.5530 - accuracy: 0.8060\n"
          ]
        },
        {
          "output_type": "execute_result",
          "data": {
            "text/plain": [
              "[0.5530008673667908, 0.8059711456298828]"
            ]
          },
          "metadata": {},
          "execution_count": 206
        }
      ]
    },
    {
      "cell_type": "code",
      "source": [
        "model_2.evaluate(valid_dataset)"
      ],
      "metadata": {
        "colab": {
          "base_uri": "https://localhost:8080/"
        },
        "id": "LS8qksy0lM1U",
        "outputId": "4a2c8276-9ecc-4334-aa01-d49955735f27"
      },
      "execution_count": 131,
      "outputs": [
        {
          "output_type": "stream",
          "name": "stdout",
          "text": [
            "945/945 [==============================] - 6s 6ms/step - loss: 0.5653 - accuracy: 0.8022\n"
          ]
        },
        {
          "output_type": "execute_result",
          "data": {
            "text/plain": [
              "[0.5653040409088135, 0.8021978139877319]"
            ]
          },
          "metadata": {},
          "execution_count": 131
        }
      ]
    },
    {
      "cell_type": "code",
      "source": [
        "pd.DataFrame(model_2_history.history)"
      ],
      "metadata": {
        "colab": {
          "base_uri": "https://localhost:8080/",
          "height": 363
        },
        "id": "_a7I8QiXl5iE",
        "outputId": "39be8fc8-588b-4a3b-9a70-b12351d5ffcf"
      },
      "execution_count": 137,
      "outputs": [
        {
          "output_type": "execute_result",
          "data": {
            "text/plain": [
              "       loss  accuracy  val_loss  val_accuracy\n",
              "0  0.587139  0.787422  0.589994      0.790559\n",
              "1  0.440508  0.850256  0.657598      0.789229\n",
              "2  0.413425  0.858263  0.654649      0.793551\n",
              "3  0.405229  0.863323  0.567155      0.800532\n",
              "4  0.383723  0.871330  0.559737      0.801529\n",
              "5  0.373759  0.874055  0.590504      0.799535\n",
              "6  0.352597  0.880060  0.553106      0.810173\n",
              "7  0.345988  0.883730  0.563257      0.812500\n",
              "8  0.336128  0.884564  0.609825      0.799867\n",
              "9  0.327256  0.889179  0.532138      0.810505"
            ],
            "text/html": [
              "\n",
              "  <div id=\"df-26a5fe29-12e4-40f7-a126-56e473048bc9\">\n",
              "    <div class=\"colab-df-container\">\n",
              "      <div>\n",
              "<style scoped>\n",
              "    .dataframe tbody tr th:only-of-type {\n",
              "        vertical-align: middle;\n",
              "    }\n",
              "\n",
              "    .dataframe tbody tr th {\n",
              "        vertical-align: top;\n",
              "    }\n",
              "\n",
              "    .dataframe thead th {\n",
              "        text-align: right;\n",
              "    }\n",
              "</style>\n",
              "<table border=\"1\" class=\"dataframe\">\n",
              "  <thead>\n",
              "    <tr style=\"text-align: right;\">\n",
              "      <th></th>\n",
              "      <th>loss</th>\n",
              "      <th>accuracy</th>\n",
              "      <th>val_loss</th>\n",
              "      <th>val_accuracy</th>\n",
              "    </tr>\n",
              "  </thead>\n",
              "  <tbody>\n",
              "    <tr>\n",
              "      <th>0</th>\n",
              "      <td>0.587139</td>\n",
              "      <td>0.787422</td>\n",
              "      <td>0.589994</td>\n",
              "      <td>0.790559</td>\n",
              "    </tr>\n",
              "    <tr>\n",
              "      <th>1</th>\n",
              "      <td>0.440508</td>\n",
              "      <td>0.850256</td>\n",
              "      <td>0.657598</td>\n",
              "      <td>0.789229</td>\n",
              "    </tr>\n",
              "    <tr>\n",
              "      <th>2</th>\n",
              "      <td>0.413425</td>\n",
              "      <td>0.858263</td>\n",
              "      <td>0.654649</td>\n",
              "      <td>0.793551</td>\n",
              "    </tr>\n",
              "    <tr>\n",
              "      <th>3</th>\n",
              "      <td>0.405229</td>\n",
              "      <td>0.863323</td>\n",
              "      <td>0.567155</td>\n",
              "      <td>0.800532</td>\n",
              "    </tr>\n",
              "    <tr>\n",
              "      <th>4</th>\n",
              "      <td>0.383723</td>\n",
              "      <td>0.871330</td>\n",
              "      <td>0.559737</td>\n",
              "      <td>0.801529</td>\n",
              "    </tr>\n",
              "    <tr>\n",
              "      <th>5</th>\n",
              "      <td>0.373759</td>\n",
              "      <td>0.874055</td>\n",
              "      <td>0.590504</td>\n",
              "      <td>0.799535</td>\n",
              "    </tr>\n",
              "    <tr>\n",
              "      <th>6</th>\n",
              "      <td>0.352597</td>\n",
              "      <td>0.880060</td>\n",
              "      <td>0.553106</td>\n",
              "      <td>0.810173</td>\n",
              "    </tr>\n",
              "    <tr>\n",
              "      <th>7</th>\n",
              "      <td>0.345988</td>\n",
              "      <td>0.883730</td>\n",
              "      <td>0.563257</td>\n",
              "      <td>0.812500</td>\n",
              "    </tr>\n",
              "    <tr>\n",
              "      <th>8</th>\n",
              "      <td>0.336128</td>\n",
              "      <td>0.884564</td>\n",
              "      <td>0.609825</td>\n",
              "      <td>0.799867</td>\n",
              "    </tr>\n",
              "    <tr>\n",
              "      <th>9</th>\n",
              "      <td>0.327256</td>\n",
              "      <td>0.889179</td>\n",
              "      <td>0.532138</td>\n",
              "      <td>0.810505</td>\n",
              "    </tr>\n",
              "  </tbody>\n",
              "</table>\n",
              "</div>\n",
              "      <button class=\"colab-df-convert\" onclick=\"convertToInteractive('df-26a5fe29-12e4-40f7-a126-56e473048bc9')\"\n",
              "              title=\"Convert this dataframe to an interactive table.\"\n",
              "              style=\"display:none;\">\n",
              "        \n",
              "  <svg xmlns=\"http://www.w3.org/2000/svg\" height=\"24px\"viewBox=\"0 0 24 24\"\n",
              "       width=\"24px\">\n",
              "    <path d=\"M0 0h24v24H0V0z\" fill=\"none\"/>\n",
              "    <path d=\"M18.56 5.44l.94 2.06.94-2.06 2.06-.94-2.06-.94-.94-2.06-.94 2.06-2.06.94zm-11 1L8.5 8.5l.94-2.06 2.06-.94-2.06-.94L8.5 2.5l-.94 2.06-2.06.94zm10 10l.94 2.06.94-2.06 2.06-.94-2.06-.94-.94-2.06-.94 2.06-2.06.94z\"/><path d=\"M17.41 7.96l-1.37-1.37c-.4-.4-.92-.59-1.43-.59-.52 0-1.04.2-1.43.59L10.3 9.45l-7.72 7.72c-.78.78-.78 2.05 0 2.83L4 21.41c.39.39.9.59 1.41.59.51 0 1.02-.2 1.41-.59l7.78-7.78 2.81-2.81c.8-.78.8-2.07 0-2.86zM5.41 20L4 18.59l7.72-7.72 1.47 1.35L5.41 20z\"/>\n",
              "  </svg>\n",
              "      </button>\n",
              "      \n",
              "  <style>\n",
              "    .colab-df-container {\n",
              "      display:flex;\n",
              "      flex-wrap:wrap;\n",
              "      gap: 12px;\n",
              "    }\n",
              "\n",
              "    .colab-df-convert {\n",
              "      background-color: #E8F0FE;\n",
              "      border: none;\n",
              "      border-radius: 50%;\n",
              "      cursor: pointer;\n",
              "      display: none;\n",
              "      fill: #1967D2;\n",
              "      height: 32px;\n",
              "      padding: 0 0 0 0;\n",
              "      width: 32px;\n",
              "    }\n",
              "\n",
              "    .colab-df-convert:hover {\n",
              "      background-color: #E2EBFA;\n",
              "      box-shadow: 0px 1px 2px rgba(60, 64, 67, 0.3), 0px 1px 3px 1px rgba(60, 64, 67, 0.15);\n",
              "      fill: #174EA6;\n",
              "    }\n",
              "\n",
              "    [theme=dark] .colab-df-convert {\n",
              "      background-color: #3B4455;\n",
              "      fill: #D2E3FC;\n",
              "    }\n",
              "\n",
              "    [theme=dark] .colab-df-convert:hover {\n",
              "      background-color: #434B5C;\n",
              "      box-shadow: 0px 1px 3px 1px rgba(0, 0, 0, 0.15);\n",
              "      filter: drop-shadow(0px 1px 2px rgba(0, 0, 0, 0.3));\n",
              "      fill: #FFFFFF;\n",
              "    }\n",
              "  </style>\n",
              "\n",
              "      <script>\n",
              "        const buttonEl =\n",
              "          document.querySelector('#df-26a5fe29-12e4-40f7-a126-56e473048bc9 button.colab-df-convert');\n",
              "        buttonEl.style.display =\n",
              "          google.colab.kernel.accessAllowed ? 'block' : 'none';\n",
              "\n",
              "        async function convertToInteractive(key) {\n",
              "          const element = document.querySelector('#df-26a5fe29-12e4-40f7-a126-56e473048bc9');\n",
              "          const dataTable =\n",
              "            await google.colab.kernel.invokeFunction('convertToInteractive',\n",
              "                                                     [key], {});\n",
              "          if (!dataTable) return;\n",
              "\n",
              "          const docLinkHtml = 'Like what you see? Visit the ' +\n",
              "            '<a target=\"_blank\" href=https://colab.research.google.com/notebooks/data_table.ipynb>data table notebook</a>'\n",
              "            + ' to learn more about interactive tables.';\n",
              "          element.innerHTML = '';\n",
              "          dataTable['output_type'] = 'display_data';\n",
              "          await google.colab.output.renderOutput(dataTable, element);\n",
              "          const docLink = document.createElement('div');\n",
              "          docLink.innerHTML = docLinkHtml;\n",
              "          element.appendChild(docLink);\n",
              "        }\n",
              "      </script>\n",
              "    </div>\n",
              "  </div>\n",
              "  "
            ]
          },
          "metadata": {},
          "execution_count": 137
        }
      ]
    },
    {
      "cell_type": "code",
      "source": [
        "pd.DataFrame(model_2_history.history).plot()"
      ],
      "metadata": {
        "colab": {
          "base_uri": "https://localhost:8080/",
          "height": 282
        },
        "id": "PPlk_f6_mJX5",
        "outputId": "9ae92cdf-7a7f-4fa7-86b2-5ef097b3bde2"
      },
      "execution_count": 140,
      "outputs": [
        {
          "output_type": "execute_result",
          "data": {
            "text/plain": [
              "<matplotlib.axes._subplots.AxesSubplot at 0x7f3e701aa6a0>"
            ]
          },
          "metadata": {},
          "execution_count": 140
        },
        {
          "output_type": "display_data",
          "data": {
            "text/plain": [
              "<Figure size 432x288 with 1 Axes>"
            ],
            "image/png": "[encoded data removed]"
          },
          "metadata": {
            "needs_background": "light"
          }
        }
      ]
    },
    {
      "cell_type": "markdown",
      "source": [
        "LSTM model."
      ],
      "metadata": {
        "id": "IQfM-KWGMjeO"
      }
    },
    {
      "cell_type": "code",
      "source": [
        "tf.random.set_seed(42)\n",
        "\n",
        "\n",
        "# Create LSTM model\n",
        "inputs = layers.Input(shape=(1,), dtype=\"string\")\n",
        "x = text_vectorizer(inputs)\n",
        "x = embedding(x)\n",
        "print(x.shape)\n",
        "x = layers.LSTM(512, return_sequences=True)(x) \n",
        "x = layers.LSTM(256, return_sequences=True)(x) \n",
        "x = layers.LSTM(128, return_sequences=True)(x)  # \n",
        "x = layers.LSTM(64)(x) # return vector for whole sequence\n",
        "print(x.shape)\n",
        "# x = layers.Dense(64, activation=\"relu\")(x) # optional dense layer on top of output of LSTM cell\n",
        "outputs = layers.Dense(5, activation=\"softmax\")(x)\n",
        "model_3 = tf.keras.Model(inputs, outputs, name=\"model_2_LSTM\")\n",
        "model_3.summary()\n",
        "\n",
        "model_3.compile(loss= tf.keras.losses.categorical_crossentropy,\n",
        "                optimizer = tf.keras.optimizers.Adam(),\n",
        "                metrics = ['accuracy']\n",
        "                )"
      ],
      "metadata": {
        "colab": {
          "base_uri": "https://localhost:8080/"
        },
        "id": "Z2Q-ZSVjmLY5",
        "outputId": "a3d472d8-d6d2-4df5-ddc0-2c5f386ee1ab"
      },
      "execution_count": 197,
      "outputs": [
        {
          "output_type": "stream",
          "name": "stdout",
          "text": [
            "(None, 55, 128)\n",
            "(None, 64)\n",
            "Model: \"model_2_LSTM\"\n",
            "_________________________________________________________________\n",
            " Layer (type)                Output Shape              Param #   \n",
            "=================================================================\n",
            " input_22 (InputLayer)       [(None, 1)]               0         \n",
            "                                                                 \n",
            " text_vectorization_1 (TextV  (None, 55)               0         \n",
            " ectorization)                                                   \n",
            "                                                                 \n",
            " token_embedding (Embedding)  (None, 55, 128)          8299648   \n",
            "                                                                 \n",
            " lstm_31 (LSTM)              (None, 55, 512)           1312768   \n",
            "                                                                 \n",
            " lstm_32 (LSTM)              (None, 55, 256)           787456    \n",
            "                                                                 \n",
            " lstm_33 (LSTM)              (None, 55, 128)           197120    \n",
            "                                                                 \n",
            " lstm_34 (LSTM)              (None, 64)                49408     \n",
            "                                                                 \n",
            " dense_23 (Dense)            (None, 5)                 325       \n",
            "                                                                 \n",
            "=================================================================\n",
            "Total params: 10,646,725\n",
            "Trainable params: 10,646,725\n",
            "Non-trainable params: 0\n",
            "_________________________________________________________________\n"
          ]
        }
      ]
    },
    {
      "cell_type": "code",
      "source": [
        "model_3_history = model_3.fit(train_dataset,\n",
        "                              steps_per_epoch=int(0.1 * len(train_dataset)), # only fit on 10% of batches for faster training time\n",
        "                              epochs=10,\n",
        "                              validation_data= valid_dataset,\n",
        "                              validation_steps=int(0.1 * len(valid_dataset))\n",
        "                              \n",
        "                              )"
      ],
      "metadata": {
        "colab": {
          "base_uri": "https://localhost:8080/"
        },
        "id": "gO_rqbMbwPdN",
        "outputId": "1224db72-5cad-4bba-de5e-9fe63e1504a3"
      },
      "execution_count": 198,
      "outputs": [
        {
          "output_type": "stream",
          "name": "stdout",
          "text": [
            "Epoch 1/10\n",
            "562/562 [==============================] - 55s 68ms/step - loss: 0.8023 - accuracy: 0.6937 - val_loss: 0.7161 - val_accuracy: 0.7350\n",
            "Epoch 2/10\n",
            "562/562 [==============================] - 29s 51ms/step - loss: 0.6236 - accuracy: 0.7669 - val_loss: 0.6177 - val_accuracy: 0.7713\n",
            "Epoch 3/10\n",
            "562/562 [==============================] - 25s 44ms/step - loss: 0.5703 - accuracy: 0.7928 - val_loss: 0.6093 - val_accuracy: 0.7766\n",
            "Epoch 4/10\n",
            "562/562 [==============================] - 24s 43ms/step - loss: 0.5475 - accuracy: 0.8033 - val_loss: 0.5693 - val_accuracy: 0.7929\n",
            "Epoch 5/10\n",
            "562/562 [==============================] - 26s 46ms/step - loss: 0.5254 - accuracy: 0.8069 - val_loss: 0.5340 - val_accuracy: 0.7985\n",
            "Epoch 6/10\n",
            "562/562 [==============================] - 23s 41ms/step - loss: 0.5048 - accuracy: 0.8158 - val_loss: 0.5212 - val_accuracy: 0.8092\n",
            "Epoch 7/10\n",
            "562/562 [==============================] - 23s 42ms/step - loss: 0.4943 - accuracy: 0.8212 - val_loss: 0.4994 - val_accuracy: 0.8238\n",
            "Epoch 8/10\n",
            "562/562 [==============================] - 23s 42ms/step - loss: 0.4825 - accuracy: 0.8241 - val_loss: 0.4977 - val_accuracy: 0.8225\n",
            "Epoch 9/10\n",
            "562/562 [==============================] - 24s 43ms/step - loss: 0.4719 - accuracy: 0.8297 - val_loss: 0.5151 - val_accuracy: 0.8158\n",
            "Epoch 10/10\n",
            "562/562 [==============================] - 23s 41ms/step - loss: 0.4636 - accuracy: 0.8329 - val_loss: 0.4935 - val_accuracy: 0.8235\n"
          ]
        }
      ]
    },
    {
      "cell_type": "code",
      "source": [
        "model_3_eval = model_3.evaluate(valid_dataset)\n",
        "model_3_eval"
      ],
      "metadata": {
        "colab": {
          "base_uri": "https://localhost:8080/"
        },
        "id": "0WmdtAtYHRdI",
        "outputId": "f72461cd-8e57-4791-8842-acf8f8ecee9a"
      },
      "execution_count": 199,
      "outputs": [
        {
          "output_type": "stream",
          "name": "stdout",
          "text": [
            "945/945 [==============================] - 12s 13ms/step - loss: 0.4973 - accuracy: 0.8154\n"
          ]
        },
        {
          "output_type": "execute_result",
          "data": {
            "text/plain": [
              "[0.49729129672050476, 0.8154375553131104]"
            ]
          },
          "metadata": {},
          "execution_count": 199
        }
      ]
    },
    {
      "cell_type": "code",
      "source": [
        "pd.DataFrame(model_3_history.history)"
      ],
      "metadata": {
        "colab": {
          "base_uri": "https://localhost:8080/",
          "height": 363
        },
        "id": "U4gebs0GwZk9",
        "outputId": "9048f821-5716-4225-fd58-9aea0d457448"
      },
      "execution_count": 160,
      "outputs": [
        {
          "output_type": "execute_result",
          "data": {
            "text/plain": [
              "       loss  accuracy  val_loss  val_accuracy\n",
              "0  1.428906  0.387678  1.437684      0.339428\n",
              "1  1.054505  0.575289  0.829750      0.677194\n",
              "2  0.828626  0.680772  0.781108      0.695146\n",
              "3  0.823812  0.685776  0.858979      0.667553\n",
              "4  0.861633  0.670207  0.759367      0.711769\n",
              "5  0.783522  0.696341  0.757307      0.703457\n",
              "6  0.790378  0.696230  0.762747      0.713431\n",
              "7  0.781167  0.701068  0.751024      0.710439\n",
              "8  0.785927  0.696619  0.762029      0.706782\n",
              "9  0.782662  0.697453  0.758564      0.705120"
            ],
            "text/html": [
              "\n",
              "  <div id=\"df-d0b0cac9-4c7a-426e-a239-5cbc3a4ca829\">\n",
              "    <div class=\"colab-df-container\">\n",
              "      <div>\n",
              "<style scoped>\n",
              "    .dataframe tbody tr th:only-of-type {\n",
              "        vertical-align: middle;\n",
              "    }\n",
              "\n",
              "    .dataframe tbody tr th {\n",
              "        vertical-align: top;\n",
              "    }\n",
              "\n",
              "    .dataframe thead th {\n",
              "        text-align: right;\n",
              "    }\n",
              "</style>\n",
              "<table border=\"1\" class=\"dataframe\">\n",
              "  <thead>\n",
              "    <tr style=\"text-align: right;\">\n",
              "      <th></th>\n",
              "      <th>loss</th>\n",
              "      <th>accuracy</th>\n",
              "      <th>val_loss</th>\n",
              "      <th>val_accuracy</th>\n",
              "    </tr>\n",
              "  </thead>\n",
              "  <tbody>\n",
              "    <tr>\n",
              "      <th>0</th>\n",
              "      <td>1.428906</td>\n",
              "      <td>0.387678</td>\n",
              "      <td>1.437684</td>\n",
              "      <td>0.339428</td>\n",
              "    </tr>\n",
              "    <tr>\n",
              "      <th>1</th>\n",
              "      <td>1.054505</td>\n",
              "      <td>0.575289</td>\n",
              "      <td>0.829750</td>\n",
              "      <td>0.677194</td>\n",
              "    </tr>\n",
              "    <tr>\n",
              "      <th>2</th>\n",
              "      <td>0.828626</td>\n",
              "      <td>0.680772</td>\n",
              "      <td>0.781108</td>\n",
              "      <td>0.695146</td>\n",
              "    </tr>\n",
              "    <tr>\n",
              "      <th>3</th>\n",
              "      <td>0.823812</td>\n",
              "      <td>0.685776</td>\n",
              "      <td>0.858979</td>\n",
              "      <td>0.667553</td>\n",
              "    </tr>\n",
              "    <tr>\n",
              "      <th>4</th>\n",
              "      <td>0.861633</td>\n",
              "      <td>0.670207</td>\n",
              "      <td>0.759367</td>\n",
              "      <td>0.711769</td>\n",
              "    </tr>\n",
              "    <tr>\n",
              "      <th>5</th>\n",
              "      <td>0.783522</td>\n",
              "      <td>0.696341</td>\n",
              "      <td>0.757307</td>\n",
              "      <td>0.703457</td>\n",
              "    </tr>\n",
              "    <tr>\n",
              "      <th>6</th>\n",
              "      <td>0.790378</td>\n",
              "      <td>0.696230</td>\n",
              "      <td>0.762747</td>\n",
              "      <td>0.713431</td>\n",
              "    </tr>\n",
              "    <tr>\n",
              "      <th>7</th>\n",
              "      <td>0.781167</td>\n",
              "      <td>0.701068</td>\n",
              "      <td>0.751024</td>\n",
              "      <td>0.710439</td>\n",
              "    </tr>\n",
              "    <tr>\n",
              "      <th>8</th>\n",
              "      <td>0.785927</td>\n",
              "      <td>0.696619</td>\n",
              "      <td>0.762029</td>\n",
              "      <td>0.706782</td>\n",
              "    </tr>\n",
              "    <tr>\n",
              "      <th>9</th>\n",
              "      <td>0.782662</td>\n",
              "      <td>0.697453</td>\n",
              "      <td>0.758564</td>\n",
              "      <td>0.705120</td>\n",
              "    </tr>\n",
              "  </tbody>\n",
              "</table>\n",
              "</div>\n",
              "      <button class=\"colab-df-convert\" onclick=\"convertToInteractive('df-d0b0cac9-4c7a-426e-a239-5cbc3a4ca829')\"\n",
              "              title=\"Convert this dataframe to an interactive table.\"\n",
              "              style=\"display:none;\">\n",
              "        \n",
              "  <svg xmlns=\"http://www.w3.org/2000/svg\" height=\"24px\"viewBox=\"0 0 24 24\"\n",
              "       width=\"24px\">\n",
              "    <path d=\"M0 0h24v24H0V0z\" fill=\"none\"/>\n",
              "    <path d=\"M18.56 5.44l.94 2.06.94-2.06 2.06-.94-2.06-.94-.94-2.06-.94 2.06-2.06.94zm-11 1L8.5 8.5l.94-2.06 2.06-.94-2.06-.94L8.5 2.5l-.94 2.06-2.06.94zm10 10l.94 2.06.94-2.06 2.06-.94-2.06-.94-.94-2.06-.94 2.06-2.06.94z\"/><path d=\"M17.41 7.96l-1.37-1.37c-.4-.4-.92-.59-1.43-.59-.52 0-1.04.2-1.43.59L10.3 9.45l-7.72 7.72c-.78.78-.78 2.05 0 2.83L4 21.41c.39.39.9.59 1.41.59.51 0 1.02-.2 1.41-.59l7.78-7.78 2.81-2.81c.8-.78.8-2.07 0-2.86zM5.41 20L4 18.59l7.72-7.72 1.47 1.35L5.41 20z\"/>\n",
              "  </svg>\n",
              "      </button>\n",
              "      \n",
              "  <style>\n",
              "    .colab-df-container {\n",
              "      display:flex;\n",
              "      flex-wrap:wrap;\n",
              "      gap: 12px;\n",
              "    }\n",
              "\n",
              "    .colab-df-convert {\n",
              "      background-color: #E8F0FE;\n",
              "      border: none;\n",
              "      border-radius: 50%;\n",
              "      cursor: pointer;\n",
              "      display: none;\n",
              "      fill: #1967D2;\n",
              "      height: 32px;\n",
              "      padding: 0 0 0 0;\n",
              "      width: 32px;\n",
              "    }\n",
              "\n",
              "    .colab-df-convert:hover {\n",
              "      background-color: #E2EBFA;\n",
              "      box-shadow: 0px 1px 2px rgba(60, 64, 67, 0.3), 0px 1px 3px 1px rgba(60, 64, 67, 0.15);\n",
              "      fill: #174EA6;\n",
              "    }\n",
              "\n",
              "    [theme=dark] .colab-df-convert {\n",
              "      background-color: #3B4455;\n",
              "      fill: #D2E3FC;\n",
              "    }\n",
              "\n",
              "    [theme=dark] .colab-df-convert:hover {\n",
              "      background-color: #434B5C;\n",
              "      box-shadow: 0px 1px 3px 1px rgba(0, 0, 0, 0.15);\n",
              "      filter: drop-shadow(0px 1px 2px rgba(0, 0, 0, 0.3));\n",
              "      fill: #FFFFFF;\n",
              "    }\n",
              "  </style>\n",
              "\n",
              "      <script>\n",
              "        const buttonEl =\n",
              "          document.querySelector('#df-d0b0cac9-4c7a-426e-a239-5cbc3a4ca829 button.colab-df-convert');\n",
              "        buttonEl.style.display =\n",
              "          google.colab.kernel.accessAllowed ? 'block' : 'none';\n",
              "\n",
              "        async function convertToInteractive(key) {\n",
              "          const element = document.querySelector('#df-d0b0cac9-4c7a-426e-a239-5cbc3a4ca829');\n",
              "          const dataTable =\n",
              "            await google.colab.kernel.invokeFunction('convertToInteractive',\n",
              "                                                     [key], {});\n",
              "          if (!dataTable) return;\n",
              "\n",
              "          const docLinkHtml = 'Like what you see? Visit the ' +\n",
              "            '<a target=\"_blank\" href=https://colab.research.google.com/notebooks/data_table.ipynb>data table notebook</a>'\n",
              "            + ' to learn more about interactive tables.';\n",
              "          element.innerHTML = '';\n",
              "          dataTable['output_type'] = 'display_data';\n",
              "          await google.colab.output.renderOutput(dataTable, element);\n",
              "          const docLink = document.createElement('div');\n",
              "          docLink.innerHTML = docLinkHtml;\n",
              "          element.appendChild(docLink);\n",
              "        }\n",
              "      </script>\n",
              "    </div>\n",
              "  </div>\n",
              "  "
            ]
          },
          "metadata": {},
          "execution_count": 160
        }
      ]
    },
    {
      "cell_type": "code",
      "source": [
        "pd.DataFrame(model_3_history.history).plot()"
      ],
      "metadata": {
        "colab": {
          "base_uri": "https://localhost:8080/",
          "height": 282
        },
        "id": "1AgFvbHaw72P",
        "outputId": "8f529e69-f8fa-4af7-b386-fc8121e08715"
      },
      "execution_count": 161,
      "outputs": [
        {
          "output_type": "execute_result",
          "data": {
            "text/plain": [
              "<matplotlib.axes._subplots.AxesSubplot at 0x7f3d58397370>"
            ]
          },
          "metadata": {},
          "execution_count": 161
        },
        {
          "output_type": "display_data",
          "data": {
            "text/plain": [
              "<Figure size 432x288 with 1 Axes>"
            ],
            "image/png": "[encoded data removed]"
          },
          "metadata": {
            "needs_background": "light"
          }
        }
      ]
    },
    {
      "cell_type": "code",
      "source": [
        "import tensorflow_hub as hub\n"
      ],
      "metadata": {
        "id": "nAK7eF-644W_"
      },
      "execution_count": 175,
      "outputs": []
    },
    {
      "cell_type": "markdown",
      "source": [
        "Transfer learning to use pretrined model."
      ],
      "metadata": {
        "id": "bEDi6yxQMmlH"
      }
    },
    {
      "cell_type": "code",
      "source": [
        "\n",
        "embed = hub.load(\"https://tfhub.dev/google/tf2-preview/nnlm-en-dim128/1\")\n",
        "tf_hub_embedding_layer = hub.KerasLayer(embed,\n",
        "                                        trainable=False,\n",
        "                                        name=\"tf2_nnlm\")"
      ],
      "metadata": {
        "id": "cwUBx9w47pon"
      },
      "execution_count": 179,
      "outputs": []
    },
    {
      "cell_type": "code",
      "source": [
        "tf.random.set_seed(42)\n",
        "\n",
        "\n",
        "# Create LSTM model\n",
        "inputs = layers.Input(shape=[], dtype=\"string\")\n",
        "pretrained_embedding  = tf_hub_embedding_layer(inputs)\n",
        "x = layers.Dense(128, activation=\"relu\")(pretrained_embedding) \n",
        "# x = layers.Dense(64, activation=\"relu\")(x) # optional dense layer on top of output of LSTM cell\n",
        "outputs = layers.Dense(5, activation=\"softmax\")(x)\n",
        "model_4 = tf.keras.Model(inputs, outputs)\n",
        "model_4.summary()\n",
        "\n",
        "model_4.compile(loss=\"categorical_crossentropy\",\n",
        "                optimizer = tf.keras.optimizers.Adam(learning_rate= 0.01),\n",
        "                metrics = ['accuracy']\n",
        "                )"
      ],
      "metadata": {
        "colab": {
          "base_uri": "https://localhost:8080/"
        },
        "id": "-EyfK0bN-le0",
        "outputId": "1d426d9b-a702-49dd-9dea-2d1d031e87ab"
      },
      "execution_count": 191,
      "outputs": [
        {
          "output_type": "stream",
          "name": "stdout",
          "text": [
            "Model: \"model_8\"\n",
            "_________________________________________________________________\n",
            " Layer (type)                Output Shape              Param #   \n",
            "=================================================================\n",
            " input_21 (InputLayer)       [(None,)]                 0         \n",
            "                                                                 \n",
            " tf2_nnlm (KerasLayer)       (None, 128)               124642688 \n",
            "                                                                 \n",
            " dense_21 (Dense)            (None, 128)               16512     \n",
            "                                                                 \n",
            " dense_22 (Dense)            (None, 5)                 645       \n",
            "                                                                 \n",
            "=================================================================\n",
            "Total params: 124,659,845\n",
            "Trainable params: 17,157\n",
            "Non-trainable params: 124,642,688\n",
            "_________________________________________________________________\n"
          ]
        }
      ]
    },
    {
      "cell_type": "code",
      "source": [
        "model_4_history = model_4.fit(train_dataset,\n",
        "                              steps_per_epoch=int(0.1 * len(train_dataset)), # only fit on 10% of batches for faster training time\n",
        "                              epochs=10,\n",
        "                              validation_data= valid_dataset,\n",
        "                              validation_steps=int(0.1 * len(valid_dataset)),\n",
        "                              \n",
        "                              \n",
        "                              )"
      ],
      "metadata": {
        "colab": {
          "base_uri": "https://localhost:8080/"
        },
        "id": "YjbtrSdU_KSn",
        "outputId": "5792b919-c8e2-4ac2-a92f-44272ee6a937"
      },
      "execution_count": 192,
      "outputs": [
        {
          "output_type": "stream",
          "name": "stdout",
          "text": [
            "Epoch 1/10\n",
            "562/562 [==============================] - 3s 4ms/step - loss: 0.7880 - accuracy: 0.6926 - val_loss: 0.7228 - val_accuracy: 0.7251\n",
            "Epoch 2/10\n",
            "562/562 [==============================] - 2s 4ms/step - loss: 0.7025 - accuracy: 0.7308 - val_loss: 0.6718 - val_accuracy: 0.7417\n",
            "Epoch 3/10\n",
            "562/562 [==============================] - 2s 4ms/step - loss: 0.6796 - accuracy: 0.7465 - val_loss: 0.6801 - val_accuracy: 0.7370\n",
            "Epoch 4/10\n",
            "562/562 [==============================] - 4s 6ms/step - loss: 0.6862 - accuracy: 0.7379 - val_loss: 0.6570 - val_accuracy: 0.7626\n",
            "Epoch 5/10\n",
            "562/562 [==============================] - 4s 6ms/step - loss: 0.6698 - accuracy: 0.7442 - val_loss: 0.6445 - val_accuracy: 0.7626\n",
            "Epoch 6/10\n",
            "562/562 [==============================] - 4s 7ms/step - loss: 0.6595 - accuracy: 0.7506 - val_loss: 0.6262 - val_accuracy: 0.7620\n",
            "Epoch 7/10\n",
            "562/562 [==============================] - 3s 6ms/step - loss: 0.6472 - accuracy: 0.7581 - val_loss: 0.6259 - val_accuracy: 0.7706\n",
            "Epoch 8/10\n",
            "562/562 [==============================] - 3s 6ms/step - loss: 0.6411 - accuracy: 0.7541 - val_loss: 0.6302 - val_accuracy: 0.7716\n",
            "Epoch 9/10\n",
            "562/562 [==============================] - 2s 4ms/step - loss: 0.6383 - accuracy: 0.7600 - val_loss: 0.6545 - val_accuracy: 0.7646\n",
            "Epoch 10/10\n",
            "562/562 [==============================] - 3s 6ms/step - loss: 0.6343 - accuracy: 0.7617 - val_loss: 0.6220 - val_accuracy: 0.7749\n"
          ]
        }
      ]
    },
    {
      "cell_type": "code",
      "source": [
        "model_4_eval = model_4.evaluate(valid_dataset)\n",
        "model_4_eval"
      ],
      "metadata": {
        "colab": {
          "base_uri": "https://localhost:8080/"
        },
        "id": "OZknXSPBGZvf",
        "outputId": "4c5c139f-7aa3-4a0c-9663-508532a769f5"
      },
      "execution_count": 196,
      "outputs": [
        {
          "output_type": "stream",
          "name": "stdout",
          "text": [
            "945/945 [==============================] - 3s 3ms/step - loss: 0.6286 - accuracy: 0.7661\n"
          ]
        },
        {
          "output_type": "execute_result",
          "data": {
            "text/plain": [
              "[0.6286312341690063, 0.7661194205284119]"
            ]
          },
          "metadata": {},
          "execution_count": 196
        }
      ]
    },
    {
      "cell_type": "markdown",
      "source": [
        "one more pretrained model."
      ],
      "metadata": {
        "id": "v61jX3RdMunb"
      }
    },
    {
      "cell_type": "code",
      "source": [
        "embed_1 = hub.load(\"https://tfhub.dev/google/universal-sentence-encoder/4\")\n",
        "tf_hub_embedding_layer_1 = hub.KerasLayer(embed_1,\n",
        "                                        trainable=False,\n",
        "                                        name=\"tf2_nnlm\")"
      ],
      "metadata": {
        "id": "cYKoW2fgApCE"
      },
      "execution_count": 188,
      "outputs": []
    },
    {
      "cell_type": "code",
      "source": [
        "tf.random.set_seed(42)\n",
        "\n",
        "\n",
        "# Create LSTM model\n",
        "inputs = layers.Input(shape=[], dtype=\"string\")\n",
        "pretrained_embedding  = tf_hub_embedding_layer_1(inputs)\n",
        "x = layers.Dense(128, activation=\"relu\")(pretrained_embedding) \n",
        "# x = layers.Dense(64, activation=\"relu\")(x) # optional dense layer on top of output of LSTM cell\n",
        "outputs = layers.Dense(5, activation=\"softmax\")(x)\n",
        "model_5 = tf.keras.Model(inputs, outputs)\n",
        "model_5.summary()\n",
        "\n",
        "model_5.compile(loss=\"categorical_crossentropy\",\n",
        "                optimizer = tf.keras.optimizers.Adam(learning_rate= 0.01),\n",
        "                metrics = ['accuracy']\n",
        "                )"
      ],
      "metadata": {
        "colab": {
          "base_uri": "https://localhost:8080/"
        },
        "id": "QzzwzXeWEnEY",
        "outputId": "8fb1ab44-8876-493b-c178-8849b401665e"
      },
      "execution_count": 189,
      "outputs": [
        {
          "output_type": "stream",
          "name": "stdout",
          "text": [
            "Model: \"model_7\"\n",
            "_________________________________________________________________\n",
            " Layer (type)                Output Shape              Param #   \n",
            "=================================================================\n",
            " input_20 (InputLayer)       [(None,)]                 0         \n",
            "                                                                 \n",
            " tf2_nnlm (KerasLayer)       (None, 512)               256797824 \n",
            "                                                                 \n",
            " dense_19 (Dense)            (None, 128)               65664     \n",
            "                                                                 \n",
            " dense_20 (Dense)            (None, 5)                 645       \n",
            "                                                                 \n",
            "=================================================================\n",
            "Total params: 256,864,133\n",
            "Trainable params: 66,309\n",
            "Non-trainable params: 256,797,824\n",
            "_________________________________________________________________\n"
          ]
        }
      ]
    },
    {
      "cell_type": "code",
      "source": [
        "model_5_history = model_5.fit(train_dataset,\n",
        "                              steps_per_epoch=int(0.1 * len(train_dataset)), # only fit on 10% of batches for faster training time\n",
        "                              epochs=10,\n",
        "                              validation_data= valid_dataset,\n",
        "                              validation_steps=int(0.1 * len(valid_dataset)),\n",
        "                              \n",
        "                              \n",
        "                              )"
      ],
      "metadata": {
        "colab": {
          "base_uri": "https://localhost:8080/"
        },
        "id": "xdAjqlmtE2Ew",
        "outputId": "f5e5e110-3720-4048-9625-1c1b69d9b961"
      },
      "execution_count": 190,
      "outputs": [
        {
          "output_type": "stream",
          "name": "stdout",
          "text": [
            "Epoch 1/10\n",
            "562/562 [==============================] - 13s 13ms/step - loss: 0.8033 - accuracy: 0.6851 - val_loss: 0.7488 - val_accuracy: 0.7221\n",
            "Epoch 2/10\n",
            "562/562 [==============================] - 7s 13ms/step - loss: 0.7095 - accuracy: 0.7245 - val_loss: 0.6996 - val_accuracy: 0.7390\n",
            "Epoch 3/10\n",
            "562/562 [==============================] - 7s 13ms/step - loss: 0.6969 - accuracy: 0.7329 - val_loss: 0.6936 - val_accuracy: 0.7374\n",
            "Epoch 4/10\n",
            "562/562 [==============================] - 7s 13ms/step - loss: 0.6993 - accuracy: 0.7329 - val_loss: 0.6912 - val_accuracy: 0.7370\n",
            "Epoch 5/10\n",
            "562/562 [==============================] - 7s 13ms/step - loss: 0.6844 - accuracy: 0.7353 - val_loss: 0.6599 - val_accuracy: 0.7497\n",
            "Epoch 6/10\n",
            "562/562 [==============================] - 7s 13ms/step - loss: 0.6765 - accuracy: 0.7399 - val_loss: 0.6698 - val_accuracy: 0.7460\n",
            "Epoch 7/10\n",
            "562/562 [==============================] - 7s 13ms/step - loss: 0.6704 - accuracy: 0.7412 - val_loss: 0.6740 - val_accuracy: 0.7457\n",
            "Epoch 8/10\n",
            "562/562 [==============================] - 7s 13ms/step - loss: 0.6675 - accuracy: 0.7454 - val_loss: 0.6605 - val_accuracy: 0.7603\n",
            "Epoch 9/10\n",
            "562/562 [==============================] - 7s 13ms/step - loss: 0.6581 - accuracy: 0.7473 - val_loss: 0.6785 - val_accuracy: 0.7437\n",
            "Epoch 10/10\n",
            "562/562 [==============================] - 7s 13ms/step - loss: 0.6547 - accuracy: 0.7511 - val_loss: 0.6574 - val_accuracy: 0.7616\n"
          ]
        }
      ]
    },
    {
      "cell_type": "code",
      "source": [
        "\n",
        "model_5_eval = model_5.evaluate(valid_dataset)\n",
        "model_5_eval"
      ],
      "metadata": {
        "colab": {
          "base_uri": "https://localhost:8080/"
        },
        "id": "NpB3gO6YFqoV",
        "outputId": "30fa2971-0eb5-4e53-cfa9-19a5133c80a1"
      },
      "execution_count": 195,
      "outputs": [
        {
          "output_type": "stream",
          "name": "stdout",
          "text": [
            "945/945 [==============================] - 10s 11ms/step - loss: 0.6492 - accuracy: 0.7557\n"
          ]
        },
        {
          "output_type": "execute_result",
          "data": {
            "text/plain": [
              "[0.6492414474487305, 0.7556599974632263]"
            ]
          },
          "metadata": {},
          "execution_count": 195
        }
      ]
    },
    {
      "cell_type": "code",
      "source": [
        "model_validation = pd.DataFrame({'model_0': model_0_eval,\n",
        "    'model_1': model_1_eval,\n",
        "    'model_2': model_2_eval,\n",
        "    'model_3': model_3_eval,\n",
        "    'model_4': model_4_eval,\n",
        "    'model_5': model_5_eval})\n",
        "model_evaluation = model_validation.transpose()"
      ],
      "metadata": {
        "id": "njW_2scBGX0g"
      },
      "execution_count": 210,
      "outputs": []
    },
    {
      "cell_type": "markdown",
      "source": [
        "#### compare the accuracy of all models.\n"
      ],
      "metadata": {
        "id": "bu3oyA5EMzBQ"
      }
    },
    {
      "cell_type": "code",
      "source": [
        "import matplotlib.pyplot as plt\n",
        "\n",
        "(model_evaluation[1] *100).plot(kind= 'bar')"
      ],
      "metadata": {
        "colab": {
          "base_uri": "https://localhost:8080/",
          "height": 315
        },
        "id": "LtNsmKoQJkHs",
        "outputId": "a4bbdcb6-86f3-4006-adfb-bd1ba13c6a19"
      },
      "execution_count": 224,
      "outputs": [
        {
          "output_type": "execute_result",
          "data": {
            "text/plain": [
              "<matplotlib.axes._subplots.AxesSubplot at 0x7f3e11320520>"
            ]
          },
          "metadata": {},
          "execution_count": 224
        },
        {
          "output_type": "display_data",
          "data": {
            "text/plain": [
              "<Figure size 432x288 with 1 Axes>"
            ],
            "image/png": "[encoded data removed]"
          },
          "metadata": {
            "needs_background": "light"
          }
        }
      ]
    },
    {
      "cell_type": "markdown",
      "source": [
        "### The work is still in progress.\n",
        "in the next stage, we are going to use character embedding to increase the accuracy of the models."
      ],
      "metadata": {
        "id": "OmVVqoGfM7Th"
      }
    },
    {
      "cell_type": "code",
      "source": [],
      "metadata": {
        "id": "LPvjs52AJ7Ep"
      },
      "execution_count": null,
      "outputs": []
    }
  ]
}